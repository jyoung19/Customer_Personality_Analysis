{
 "cells": [
  {
   "cell_type": "code",
   "execution_count": 1,
   "metadata": {},
   "outputs": [],
   "source": [
    "import pandas as pd\n",
    "import seaborn as sns\n",
    "import matplotlib.pyplot as plt"
   ]
  },
  {
   "cell_type": "code",
   "execution_count": 60,
   "metadata": {
    "scrolled": true
   },
   "outputs": [
    {
     "data": {
      "text/html": [
       "<div>\n",
       "<style scoped>\n",
       "    .dataframe tbody tr th:only-of-type {\n",
       "        vertical-align: middle;\n",
       "    }\n",
       "\n",
       "    .dataframe tbody tr th {\n",
       "        vertical-align: top;\n",
       "    }\n",
       "\n",
       "    .dataframe thead th {\n",
       "        text-align: right;\n",
       "    }\n",
       "</style>\n",
       "<table border=\"1\" class=\"dataframe\">\n",
       "  <thead>\n",
       "    <tr style=\"text-align: right;\">\n",
       "      <th></th>\n",
       "      <th>ID</th>\n",
       "      <th>Year_Birth</th>\n",
       "      <th>Education</th>\n",
       "      <th>Marital_Status</th>\n",
       "      <th>Income</th>\n",
       "      <th>Kidhome</th>\n",
       "      <th>Teenhome</th>\n",
       "      <th>Dt_Customer</th>\n",
       "      <th>Recency</th>\n",
       "      <th>MntWines</th>\n",
       "      <th>...</th>\n",
       "      <th>NumWebVisitsMonth</th>\n",
       "      <th>AcceptedCmp3</th>\n",
       "      <th>AcceptedCmp4</th>\n",
       "      <th>AcceptedCmp5</th>\n",
       "      <th>AcceptedCmp1</th>\n",
       "      <th>AcceptedCmp2</th>\n",
       "      <th>Complain</th>\n",
       "      <th>Z_CostContact</th>\n",
       "      <th>Z_Revenue</th>\n",
       "      <th>Response</th>\n",
       "    </tr>\n",
       "  </thead>\n",
       "  <tbody>\n",
       "    <tr>\n",
       "      <th>0</th>\n",
       "      <td>5524</td>\n",
       "      <td>1957</td>\n",
       "      <td>Graduation</td>\n",
       "      <td>Single</td>\n",
       "      <td>58138.0</td>\n",
       "      <td>0</td>\n",
       "      <td>0</td>\n",
       "      <td>04-09-2012</td>\n",
       "      <td>58</td>\n",
       "      <td>635</td>\n",
       "      <td>...</td>\n",
       "      <td>7</td>\n",
       "      <td>0</td>\n",
       "      <td>0</td>\n",
       "      <td>0</td>\n",
       "      <td>0</td>\n",
       "      <td>0</td>\n",
       "      <td>0</td>\n",
       "      <td>3</td>\n",
       "      <td>11</td>\n",
       "      <td>1</td>\n",
       "    </tr>\n",
       "    <tr>\n",
       "      <th>1</th>\n",
       "      <td>2174</td>\n",
       "      <td>1954</td>\n",
       "      <td>Graduation</td>\n",
       "      <td>Single</td>\n",
       "      <td>46344.0</td>\n",
       "      <td>1</td>\n",
       "      <td>1</td>\n",
       "      <td>08-03-2014</td>\n",
       "      <td>38</td>\n",
       "      <td>11</td>\n",
       "      <td>...</td>\n",
       "      <td>5</td>\n",
       "      <td>0</td>\n",
       "      <td>0</td>\n",
       "      <td>0</td>\n",
       "      <td>0</td>\n",
       "      <td>0</td>\n",
       "      <td>0</td>\n",
       "      <td>3</td>\n",
       "      <td>11</td>\n",
       "      <td>0</td>\n",
       "    </tr>\n",
       "    <tr>\n",
       "      <th>2</th>\n",
       "      <td>4141</td>\n",
       "      <td>1965</td>\n",
       "      <td>Graduation</td>\n",
       "      <td>Together</td>\n",
       "      <td>71613.0</td>\n",
       "      <td>0</td>\n",
       "      <td>0</td>\n",
       "      <td>21-08-2013</td>\n",
       "      <td>26</td>\n",
       "      <td>426</td>\n",
       "      <td>...</td>\n",
       "      <td>4</td>\n",
       "      <td>0</td>\n",
       "      <td>0</td>\n",
       "      <td>0</td>\n",
       "      <td>0</td>\n",
       "      <td>0</td>\n",
       "      <td>0</td>\n",
       "      <td>3</td>\n",
       "      <td>11</td>\n",
       "      <td>0</td>\n",
       "    </tr>\n",
       "    <tr>\n",
       "      <th>3</th>\n",
       "      <td>6182</td>\n",
       "      <td>1984</td>\n",
       "      <td>Graduation</td>\n",
       "      <td>Together</td>\n",
       "      <td>26646.0</td>\n",
       "      <td>1</td>\n",
       "      <td>0</td>\n",
       "      <td>10-02-2014</td>\n",
       "      <td>26</td>\n",
       "      <td>11</td>\n",
       "      <td>...</td>\n",
       "      <td>6</td>\n",
       "      <td>0</td>\n",
       "      <td>0</td>\n",
       "      <td>0</td>\n",
       "      <td>0</td>\n",
       "      <td>0</td>\n",
       "      <td>0</td>\n",
       "      <td>3</td>\n",
       "      <td>11</td>\n",
       "      <td>0</td>\n",
       "    </tr>\n",
       "    <tr>\n",
       "      <th>4</th>\n",
       "      <td>5324</td>\n",
       "      <td>1981</td>\n",
       "      <td>PhD</td>\n",
       "      <td>Married</td>\n",
       "      <td>58293.0</td>\n",
       "      <td>1</td>\n",
       "      <td>0</td>\n",
       "      <td>19-01-2014</td>\n",
       "      <td>94</td>\n",
       "      <td>173</td>\n",
       "      <td>...</td>\n",
       "      <td>5</td>\n",
       "      <td>0</td>\n",
       "      <td>0</td>\n",
       "      <td>0</td>\n",
       "      <td>0</td>\n",
       "      <td>0</td>\n",
       "      <td>0</td>\n",
       "      <td>3</td>\n",
       "      <td>11</td>\n",
       "      <td>0</td>\n",
       "    </tr>\n",
       "    <tr>\n",
       "      <th>...</th>\n",
       "      <td>...</td>\n",
       "      <td>...</td>\n",
       "      <td>...</td>\n",
       "      <td>...</td>\n",
       "      <td>...</td>\n",
       "      <td>...</td>\n",
       "      <td>...</td>\n",
       "      <td>...</td>\n",
       "      <td>...</td>\n",
       "      <td>...</td>\n",
       "      <td>...</td>\n",
       "      <td>...</td>\n",
       "      <td>...</td>\n",
       "      <td>...</td>\n",
       "      <td>...</td>\n",
       "      <td>...</td>\n",
       "      <td>...</td>\n",
       "      <td>...</td>\n",
       "      <td>...</td>\n",
       "      <td>...</td>\n",
       "      <td>...</td>\n",
       "    </tr>\n",
       "    <tr>\n",
       "      <th>2235</th>\n",
       "      <td>10870</td>\n",
       "      <td>1967</td>\n",
       "      <td>Graduation</td>\n",
       "      <td>Married</td>\n",
       "      <td>61223.0</td>\n",
       "      <td>0</td>\n",
       "      <td>1</td>\n",
       "      <td>13-06-2013</td>\n",
       "      <td>46</td>\n",
       "      <td>709</td>\n",
       "      <td>...</td>\n",
       "      <td>5</td>\n",
       "      <td>0</td>\n",
       "      <td>0</td>\n",
       "      <td>0</td>\n",
       "      <td>0</td>\n",
       "      <td>0</td>\n",
       "      <td>0</td>\n",
       "      <td>3</td>\n",
       "      <td>11</td>\n",
       "      <td>0</td>\n",
       "    </tr>\n",
       "    <tr>\n",
       "      <th>2236</th>\n",
       "      <td>4001</td>\n",
       "      <td>1946</td>\n",
       "      <td>PhD</td>\n",
       "      <td>Together</td>\n",
       "      <td>64014.0</td>\n",
       "      <td>2</td>\n",
       "      <td>1</td>\n",
       "      <td>10-06-2014</td>\n",
       "      <td>56</td>\n",
       "      <td>406</td>\n",
       "      <td>...</td>\n",
       "      <td>7</td>\n",
       "      <td>0</td>\n",
       "      <td>0</td>\n",
       "      <td>0</td>\n",
       "      <td>1</td>\n",
       "      <td>0</td>\n",
       "      <td>0</td>\n",
       "      <td>3</td>\n",
       "      <td>11</td>\n",
       "      <td>0</td>\n",
       "    </tr>\n",
       "    <tr>\n",
       "      <th>2237</th>\n",
       "      <td>7270</td>\n",
       "      <td>1981</td>\n",
       "      <td>Graduation</td>\n",
       "      <td>Divorced</td>\n",
       "      <td>56981.0</td>\n",
       "      <td>0</td>\n",
       "      <td>0</td>\n",
       "      <td>25-01-2014</td>\n",
       "      <td>91</td>\n",
       "      <td>908</td>\n",
       "      <td>...</td>\n",
       "      <td>6</td>\n",
       "      <td>0</td>\n",
       "      <td>1</td>\n",
       "      <td>0</td>\n",
       "      <td>0</td>\n",
       "      <td>0</td>\n",
       "      <td>0</td>\n",
       "      <td>3</td>\n",
       "      <td>11</td>\n",
       "      <td>0</td>\n",
       "    </tr>\n",
       "    <tr>\n",
       "      <th>2238</th>\n",
       "      <td>8235</td>\n",
       "      <td>1956</td>\n",
       "      <td>Master</td>\n",
       "      <td>Together</td>\n",
       "      <td>69245.0</td>\n",
       "      <td>0</td>\n",
       "      <td>1</td>\n",
       "      <td>24-01-2014</td>\n",
       "      <td>8</td>\n",
       "      <td>428</td>\n",
       "      <td>...</td>\n",
       "      <td>3</td>\n",
       "      <td>0</td>\n",
       "      <td>0</td>\n",
       "      <td>0</td>\n",
       "      <td>0</td>\n",
       "      <td>0</td>\n",
       "      <td>0</td>\n",
       "      <td>3</td>\n",
       "      <td>11</td>\n",
       "      <td>0</td>\n",
       "    </tr>\n",
       "    <tr>\n",
       "      <th>2239</th>\n",
       "      <td>9405</td>\n",
       "      <td>1954</td>\n",
       "      <td>PhD</td>\n",
       "      <td>Married</td>\n",
       "      <td>52869.0</td>\n",
       "      <td>1</td>\n",
       "      <td>1</td>\n",
       "      <td>15-10-2012</td>\n",
       "      <td>40</td>\n",
       "      <td>84</td>\n",
       "      <td>...</td>\n",
       "      <td>7</td>\n",
       "      <td>0</td>\n",
       "      <td>0</td>\n",
       "      <td>0</td>\n",
       "      <td>0</td>\n",
       "      <td>0</td>\n",
       "      <td>0</td>\n",
       "      <td>3</td>\n",
       "      <td>11</td>\n",
       "      <td>1</td>\n",
       "    </tr>\n",
       "  </tbody>\n",
       "</table>\n",
       "<p>2240 rows × 29 columns</p>\n",
       "</div>"
      ],
      "text/plain": [
       "         ID  Year_Birth   Education Marital_Status   Income  Kidhome  \\\n",
       "0      5524        1957  Graduation         Single  58138.0        0   \n",
       "1      2174        1954  Graduation         Single  46344.0        1   \n",
       "2      4141        1965  Graduation       Together  71613.0        0   \n",
       "3      6182        1984  Graduation       Together  26646.0        1   \n",
       "4      5324        1981         PhD        Married  58293.0        1   \n",
       "...     ...         ...         ...            ...      ...      ...   \n",
       "2235  10870        1967  Graduation        Married  61223.0        0   \n",
       "2236   4001        1946         PhD       Together  64014.0        2   \n",
       "2237   7270        1981  Graduation       Divorced  56981.0        0   \n",
       "2238   8235        1956      Master       Together  69245.0        0   \n",
       "2239   9405        1954         PhD        Married  52869.0        1   \n",
       "\n",
       "      Teenhome Dt_Customer  Recency  MntWines  ...  NumWebVisitsMonth  \\\n",
       "0            0  04-09-2012       58       635  ...                  7   \n",
       "1            1  08-03-2014       38        11  ...                  5   \n",
       "2            0  21-08-2013       26       426  ...                  4   \n",
       "3            0  10-02-2014       26        11  ...                  6   \n",
       "4            0  19-01-2014       94       173  ...                  5   \n",
       "...        ...         ...      ...       ...  ...                ...   \n",
       "2235         1  13-06-2013       46       709  ...                  5   \n",
       "2236         1  10-06-2014       56       406  ...                  7   \n",
       "2237         0  25-01-2014       91       908  ...                  6   \n",
       "2238         1  24-01-2014        8       428  ...                  3   \n",
       "2239         1  15-10-2012       40        84  ...                  7   \n",
       "\n",
       "      AcceptedCmp3  AcceptedCmp4  AcceptedCmp5  AcceptedCmp1  AcceptedCmp2  \\\n",
       "0                0             0             0             0             0   \n",
       "1                0             0             0             0             0   \n",
       "2                0             0             0             0             0   \n",
       "3                0             0             0             0             0   \n",
       "4                0             0             0             0             0   \n",
       "...            ...           ...           ...           ...           ...   \n",
       "2235             0             0             0             0             0   \n",
       "2236             0             0             0             1             0   \n",
       "2237             0             1             0             0             0   \n",
       "2238             0             0             0             0             0   \n",
       "2239             0             0             0             0             0   \n",
       "\n",
       "      Complain  Z_CostContact  Z_Revenue  Response  \n",
       "0            0              3         11         1  \n",
       "1            0              3         11         0  \n",
       "2            0              3         11         0  \n",
       "3            0              3         11         0  \n",
       "4            0              3         11         0  \n",
       "...        ...            ...        ...       ...  \n",
       "2235         0              3         11         0  \n",
       "2236         0              3         11         0  \n",
       "2237         0              3         11         0  \n",
       "2238         0              3         11         0  \n",
       "2239         0              3         11         1  \n",
       "\n",
       "[2240 rows x 29 columns]"
      ]
     },
     "execution_count": 60,
     "metadata": {},
     "output_type": "execute_result"
    }
   ],
   "source": [
    "customer_df = pd.read_csv(\"marketing_campaign.csv\", sep=\"\\t\")\n",
    "customer_df"
   ]
  },
  {
   "cell_type": "markdown",
   "metadata": {},
   "source": [
    "- ID : 고객의 고유 식별자                  \n",
    "- Year_Birth : 출생연도\n",
    "- Education : 학력 (object)\n",
    "- Marital_Status : 결혼 상태 (object)\n",
    "- Income : 연간 가구 소득 (float64)\n",
    "- Kidhome : 가구의 자녀 수\n",
    "- Teenhome : 가구의 청소년 수          \n",
    "- Dt_Customer : 고객이 회사에 등록한 날짜 (object)\n",
    "- Recency : 고객의 마지막 구매 이후 일수\n",
    "\n",
    "- MntWines : 지난 2년 동안 와인에 지출한 금액\n",
    "- MntFruits : 지난 2년 동안 과일에 지출한 금액\n",
    "- MntMeatProducts : 지난 2년 동안 육류에 지출한 금액\n",
    "- MntFishProducts : 지난 2년 동안 물고기에 지출한 금액\n",
    "- MntSweetProducts : 지난 2년 동안 과자에 지출한 금액\n",
    "- MntGoldProds : 지난 2년 동안 골드에 지출한 금액\n",
    "\n",
    "- NumDealsPurchases : 할인된 구매 횟수\n",
    "\n",
    "- NumWebPurchases : 회사 웹사이트를 통한 구매 건수\n",
    "- NumCatalogPurchases : 카탈로그를 사용한 구매 수\n",
    "- NumStorePurchases : 매장에서 직접 구매한 횟수\n",
    "- NumWebVisitsMonth : 지난 달 회사 웹사이트를 방문한 횟수\n",
    "\n",
    "- AcceptedCmp1: 고객이 첫 번째 캠페인에서 제안을 수락한 경우 1, 그렇지 않은 경우 0\n",
    "- AcceptedCmp2: 고객이 두 번째 캠페인에서 제안을 수락한 경우 1, 그렇지 않은 경우 0\n",
    "- AcceptedCmp3: 고객이 세 번째 캠페인에서 제안을 수락한 경우 1, 그렇지 않은 경우 0\n",
    "- AcceptedCmp4: 고객이 네 번째 캠페인에서 제안을 수락한 경우 1, 그렇지 않은 경우 0\n",
    "- AcceptedCmp5: 고객이 다섯 번째 캠페인에서 제안을 수락한 경우 1, 그렇지 않은 경우 0\n",
    "\n",
    "- Complain : 고객이 지난 2년 동안 불만을 제기한 경우 1, 그렇지 않은 경우 0\n",
    "- Z_CostContact = 3\n",
    "- Z_Revenue = 11\n",
    "\n",
    "- Response : 고객이 마지막 캠페인에서 제안을 수락한 경우 1, 그렇지 않은 경우 0"
   ]
  },
  {
   "cell_type": "markdown",
   "metadata": {},
   "source": [
    "## 1. 이상치, 결측치 처리"
   ]
  },
  {
   "cell_type": "markdown",
   "metadata": {},
   "source": [
    "### 1. 결측치 -> 삭제"
   ]
  },
  {
   "cell_type": "code",
   "execution_count": 61,
   "metadata": {},
   "outputs": [
    {
     "data": {
      "text/plain": [
       "ID                      0\n",
       "Year_Birth              0\n",
       "Education               0\n",
       "Marital_Status          0\n",
       "Income                 24\n",
       "Kidhome                 0\n",
       "Teenhome                0\n",
       "Dt_Customer             0\n",
       "Recency                 0\n",
       "MntWines                0\n",
       "MntFruits               0\n",
       "MntMeatProducts         0\n",
       "MntFishProducts         0\n",
       "MntSweetProducts        0\n",
       "MntGoldProds            0\n",
       "NumDealsPurchases       0\n",
       "NumWebPurchases         0\n",
       "NumCatalogPurchases     0\n",
       "NumStorePurchases       0\n",
       "NumWebVisitsMonth       0\n",
       "AcceptedCmp3            0\n",
       "AcceptedCmp4            0\n",
       "AcceptedCmp5            0\n",
       "AcceptedCmp1            0\n",
       "AcceptedCmp2            0\n",
       "Complain                0\n",
       "Z_CostContact           0\n",
       "Z_Revenue               0\n",
       "Response                0\n",
       "dtype: int64"
      ]
     },
     "execution_count": 61,
     "metadata": {},
     "output_type": "execute_result"
    }
   ],
   "source": [
    "customer_df.isnull().sum()"
   ]
  },
  {
   "cell_type": "code",
   "execution_count": 62,
   "metadata": {},
   "outputs": [],
   "source": [
    "customer_df.dropna(inplace=True)"
   ]
  },
  {
   "cell_type": "code",
   "execution_count": 63,
   "metadata": {},
   "outputs": [
    {
     "data": {
      "text/plain": [
       "ID                     0\n",
       "Year_Birth             0\n",
       "Education              0\n",
       "Marital_Status         0\n",
       "Income                 0\n",
       "Kidhome                0\n",
       "Teenhome               0\n",
       "Dt_Customer            0\n",
       "Recency                0\n",
       "MntWines               0\n",
       "MntFruits              0\n",
       "MntMeatProducts        0\n",
       "MntFishProducts        0\n",
       "MntSweetProducts       0\n",
       "MntGoldProds           0\n",
       "NumDealsPurchases      0\n",
       "NumWebPurchases        0\n",
       "NumCatalogPurchases    0\n",
       "NumStorePurchases      0\n",
       "NumWebVisitsMonth      0\n",
       "AcceptedCmp3           0\n",
       "AcceptedCmp4           0\n",
       "AcceptedCmp5           0\n",
       "AcceptedCmp1           0\n",
       "AcceptedCmp2           0\n",
       "Complain               0\n",
       "Z_CostContact          0\n",
       "Z_Revenue              0\n",
       "Response               0\n",
       "dtype: int64"
      ]
     },
     "execution_count": 63,
     "metadata": {},
     "output_type": "execute_result"
    }
   ],
   "source": [
    "customer_df.isnull().sum()"
   ]
  },
  {
   "cell_type": "markdown",
   "metadata": {},
   "source": [
    "### 2. 이상치"
   ]
  },
  {
   "cell_type": "markdown",
   "metadata": {},
   "source": [
    "#### 1) Income : 연간 가구 소득"
   ]
  },
  {
   "cell_type": "code",
   "execution_count": 7,
   "metadata": {},
   "outputs": [
    {
     "data": {
      "text/plain": [
       "<AxesSubplot:>"
      ]
     },
     "execution_count": 7,
     "metadata": {},
     "output_type": "execute_result"
    },
    {
     "data": {
      "image/png": "[encoded data removed]",
      "text/plain": [
       "<Figure size 432x288 with 1 Axes>"
      ]
     },
     "metadata": {
      "needs_background": "light"
     },
     "output_type": "display_data"
    }
   ],
   "source": [
    "sns.boxplot(data = customer_df['Income'])"
   ]
  },
  {
   "cell_type": "code",
   "execution_count": 12,
   "metadata": {},
   "outputs": [
    {
     "data": {
      "text/plain": [
       "1730.0"
      ]
     },
     "execution_count": 12,
     "metadata": {},
     "output_type": "execute_result"
    }
   ],
   "source": [
    "customer_df['Income'].min()"
   ]
  },
  {
   "cell_type": "code",
   "execution_count": 8,
   "metadata": {},
   "outputs": [
    {
     "data": {
      "text/plain": [
       "666666.0"
      ]
     },
     "execution_count": 8,
     "metadata": {},
     "output_type": "execute_result"
    }
   ],
   "source": [
    "customer_df['Income'].max()"
   ]
  },
  {
   "cell_type": "markdown",
   "metadata": {},
   "source": [
    "-> 666,666달러 = 879,332,454원 (약 8억 8천만원)"
   ]
  },
  {
   "cell_type": "code",
   "execution_count": 9,
   "metadata": {},
   "outputs": [
    {
     "data": {
      "text/plain": [
       "33219.0"
      ]
     },
     "execution_count": 9,
     "metadata": {},
     "output_type": "execute_result"
    }
   ],
   "source": [
    "# 4분위수, IQR 계산\n",
    "\n",
    "q1 = customer_df['Income'].quantile(0.25)\n",
    "q2 = customer_df['Income'].quantile(0.5)\n",
    "q3 = customer_df['Income'].quantile(0.75)\n",
    "\n",
    "iqr = q3 - q1\n",
    "iqr"
   ]
  },
  {
   "cell_type": "code",
   "execution_count": 10,
   "metadata": {},
   "outputs": [
    {
     "name": "stdout",
     "output_type": "stream",
     "text": [
      "-14525.5\n",
      "118350.5\n"
     ]
    }
   ],
   "source": [
    "# outlier cutoff, lower/upper bound 계산\n",
    "\n",
    "cut_off = iqr * 1.5\n",
    "\n",
    "lower = q1 - cut_off\n",
    "upper = q3 + cut_off\n",
    "\n",
    "print(lower)\n",
    "print(upper)"
   ]
  },
  {
   "cell_type": "code",
   "execution_count": 11,
   "metadata": {},
   "outputs": [],
   "source": [
    "# 1사분위와 4사분위에 속해있는 데이터 각각 저장    \n",
    "\n",
    "data1 = customer_df[customer_df['Income'] > upper]\n",
    "data2 = customer_df[customer_df['Income'] < lower]"
   ]
  },
  {
   "cell_type": "code",
   "execution_count": 13,
   "metadata": {},
   "outputs": [
    {
     "data": {
      "text/plain": [
       "8"
      ]
     },
     "execution_count": 13,
     "metadata": {},
     "output_type": "execute_result"
    }
   ],
   "source": [
    "# 이상치 개수\n",
    "\n",
    "data1.shape[0] + data2.shape[0]"
   ]
  },
  {
   "cell_type": "code",
   "execution_count": 15,
   "metadata": {},
   "outputs": [
    {
     "data": {
      "text/plain": [
       "164     157243.0\n",
       "617     162397.0\n",
       "655     153924.0\n",
       "687     160803.0\n",
       "1300    157733.0\n",
       "1653    157146.0\n",
       "2132    156924.0\n",
       "2233    666666.0\n",
       "Name: Income, dtype: float64"
      ]
     },
     "execution_count": 15,
     "metadata": {},
     "output_type": "execute_result"
    }
   ],
   "source": [
    "data1['Income']"
   ]
  },
  {
   "cell_type": "markdown",
   "metadata": {},
   "source": [
    "-> 153,924달러 = 203,025,756원 (약 2억 3백만원)"
   ]
  },
  {
   "cell_type": "code",
   "execution_count": 16,
   "metadata": {},
   "outputs": [
    {
     "data": {
      "text/plain": [
       "Series([], Name: Income, dtype: float64)"
      ]
     },
     "execution_count": 16,
     "metadata": {},
     "output_type": "execute_result"
    }
   ],
   "source": [
    "data2['Income']"
   ]
  },
  {
   "cell_type": "code",
   "execution_count": 18,
   "metadata": {},
   "outputs": [
    {
     "name": "stdout",
     "output_type": "stream",
     "text": [
      "52247.25135379061\n",
      "51381.5\n"
     ]
    }
   ],
   "source": [
    "print(customer_df['Income'].mean())\n",
    "print(customer_df['Income'].median())"
   ]
  },
  {
   "cell_type": "markdown",
   "metadata": {},
   "source": [
    "<span style='background-color: #fff5b1'>**-> 아래 8개 값은 삭제? 아니면 평균/중앙값으로 대체?**</span>"
   ]
  },
  {
   "cell_type": "code",
   "execution_count": 21,
   "metadata": {},
   "outputs": [
    {
     "data": {
      "text/html": [
       "<div>\n",
       "<style scoped>\n",
       "    .dataframe tbody tr th:only-of-type {\n",
       "        vertical-align: middle;\n",
       "    }\n",
       "\n",
       "    .dataframe tbody tr th {\n",
       "        vertical-align: top;\n",
       "    }\n",
       "\n",
       "    .dataframe thead th {\n",
       "        text-align: right;\n",
       "    }\n",
       "</style>\n",
       "<table border=\"1\" class=\"dataframe\">\n",
       "  <thead>\n",
       "    <tr style=\"text-align: right;\">\n",
       "      <th></th>\n",
       "      <th>ID</th>\n",
       "      <th>Year_Birth</th>\n",
       "      <th>Education</th>\n",
       "      <th>Marital_Status</th>\n",
       "      <th>Income</th>\n",
       "      <th>Kidhome</th>\n",
       "      <th>Teenhome</th>\n",
       "      <th>Dt_Customer</th>\n",
       "      <th>Recency</th>\n",
       "      <th>MntWines</th>\n",
       "      <th>...</th>\n",
       "      <th>NumWebVisitsMonth</th>\n",
       "      <th>AcceptedCmp3</th>\n",
       "      <th>AcceptedCmp4</th>\n",
       "      <th>AcceptedCmp5</th>\n",
       "      <th>AcceptedCmp1</th>\n",
       "      <th>AcceptedCmp2</th>\n",
       "      <th>Complain</th>\n",
       "      <th>Z_CostContact</th>\n",
       "      <th>Z_Revenue</th>\n",
       "      <th>Response</th>\n",
       "    </tr>\n",
       "  </thead>\n",
       "  <tbody>\n",
       "    <tr>\n",
       "      <th>164</th>\n",
       "      <td>8475</td>\n",
       "      <td>1973</td>\n",
       "      <td>PhD</td>\n",
       "      <td>Married</td>\n",
       "      <td>157243.0</td>\n",
       "      <td>0</td>\n",
       "      <td>1</td>\n",
       "      <td>01-03-2014</td>\n",
       "      <td>98</td>\n",
       "      <td>20</td>\n",
       "      <td>...</td>\n",
       "      <td>0</td>\n",
       "      <td>0</td>\n",
       "      <td>0</td>\n",
       "      <td>0</td>\n",
       "      <td>0</td>\n",
       "      <td>0</td>\n",
       "      <td>0</td>\n",
       "      <td>3</td>\n",
       "      <td>11</td>\n",
       "      <td>0</td>\n",
       "    </tr>\n",
       "    <tr>\n",
       "      <th>617</th>\n",
       "      <td>1503</td>\n",
       "      <td>1976</td>\n",
       "      <td>PhD</td>\n",
       "      <td>Together</td>\n",
       "      <td>162397.0</td>\n",
       "      <td>1</td>\n",
       "      <td>1</td>\n",
       "      <td>03-06-2013</td>\n",
       "      <td>31</td>\n",
       "      <td>85</td>\n",
       "      <td>...</td>\n",
       "      <td>1</td>\n",
       "      <td>0</td>\n",
       "      <td>0</td>\n",
       "      <td>0</td>\n",
       "      <td>0</td>\n",
       "      <td>0</td>\n",
       "      <td>0</td>\n",
       "      <td>3</td>\n",
       "      <td>11</td>\n",
       "      <td>0</td>\n",
       "    </tr>\n",
       "    <tr>\n",
       "      <th>655</th>\n",
       "      <td>5555</td>\n",
       "      <td>1975</td>\n",
       "      <td>Graduation</td>\n",
       "      <td>Divorced</td>\n",
       "      <td>153924.0</td>\n",
       "      <td>0</td>\n",
       "      <td>0</td>\n",
       "      <td>07-02-2014</td>\n",
       "      <td>81</td>\n",
       "      <td>1</td>\n",
       "      <td>...</td>\n",
       "      <td>0</td>\n",
       "      <td>0</td>\n",
       "      <td>0</td>\n",
       "      <td>0</td>\n",
       "      <td>0</td>\n",
       "      <td>0</td>\n",
       "      <td>0</td>\n",
       "      <td>3</td>\n",
       "      <td>11</td>\n",
       "      <td>0</td>\n",
       "    </tr>\n",
       "    <tr>\n",
       "      <th>687</th>\n",
       "      <td>1501</td>\n",
       "      <td>1982</td>\n",
       "      <td>PhD</td>\n",
       "      <td>Married</td>\n",
       "      <td>160803.0</td>\n",
       "      <td>0</td>\n",
       "      <td>0</td>\n",
       "      <td>04-08-2012</td>\n",
       "      <td>21</td>\n",
       "      <td>55</td>\n",
       "      <td>...</td>\n",
       "      <td>0</td>\n",
       "      <td>0</td>\n",
       "      <td>0</td>\n",
       "      <td>0</td>\n",
       "      <td>0</td>\n",
       "      <td>0</td>\n",
       "      <td>0</td>\n",
       "      <td>3</td>\n",
       "      <td>11</td>\n",
       "      <td>0</td>\n",
       "    </tr>\n",
       "    <tr>\n",
       "      <th>1300</th>\n",
       "      <td>5336</td>\n",
       "      <td>1971</td>\n",
       "      <td>Master</td>\n",
       "      <td>Together</td>\n",
       "      <td>157733.0</td>\n",
       "      <td>1</td>\n",
       "      <td>0</td>\n",
       "      <td>04-06-2013</td>\n",
       "      <td>37</td>\n",
       "      <td>39</td>\n",
       "      <td>...</td>\n",
       "      <td>1</td>\n",
       "      <td>0</td>\n",
       "      <td>0</td>\n",
       "      <td>0</td>\n",
       "      <td>0</td>\n",
       "      <td>0</td>\n",
       "      <td>0</td>\n",
       "      <td>3</td>\n",
       "      <td>11</td>\n",
       "      <td>0</td>\n",
       "    </tr>\n",
       "    <tr>\n",
       "      <th>1653</th>\n",
       "      <td>4931</td>\n",
       "      <td>1977</td>\n",
       "      <td>Graduation</td>\n",
       "      <td>Together</td>\n",
       "      <td>157146.0</td>\n",
       "      <td>0</td>\n",
       "      <td>0</td>\n",
       "      <td>29-04-2013</td>\n",
       "      <td>13</td>\n",
       "      <td>1</td>\n",
       "      <td>...</td>\n",
       "      <td>1</td>\n",
       "      <td>0</td>\n",
       "      <td>0</td>\n",
       "      <td>0</td>\n",
       "      <td>0</td>\n",
       "      <td>0</td>\n",
       "      <td>0</td>\n",
       "      <td>3</td>\n",
       "      <td>11</td>\n",
       "      <td>0</td>\n",
       "    </tr>\n",
       "    <tr>\n",
       "      <th>2132</th>\n",
       "      <td>11181</td>\n",
       "      <td>1949</td>\n",
       "      <td>PhD</td>\n",
       "      <td>Married</td>\n",
       "      <td>156924.0</td>\n",
       "      <td>0</td>\n",
       "      <td>0</td>\n",
       "      <td>29-08-2013</td>\n",
       "      <td>85</td>\n",
       "      <td>2</td>\n",
       "      <td>...</td>\n",
       "      <td>0</td>\n",
       "      <td>0</td>\n",
       "      <td>0</td>\n",
       "      <td>0</td>\n",
       "      <td>0</td>\n",
       "      <td>0</td>\n",
       "      <td>0</td>\n",
       "      <td>3</td>\n",
       "      <td>11</td>\n",
       "      <td>0</td>\n",
       "    </tr>\n",
       "    <tr>\n",
       "      <th>2233</th>\n",
       "      <td>9432</td>\n",
       "      <td>1977</td>\n",
       "      <td>Graduation</td>\n",
       "      <td>Together</td>\n",
       "      <td>666666.0</td>\n",
       "      <td>1</td>\n",
       "      <td>0</td>\n",
       "      <td>02-06-2013</td>\n",
       "      <td>23</td>\n",
       "      <td>9</td>\n",
       "      <td>...</td>\n",
       "      <td>6</td>\n",
       "      <td>0</td>\n",
       "      <td>0</td>\n",
       "      <td>0</td>\n",
       "      <td>0</td>\n",
       "      <td>0</td>\n",
       "      <td>0</td>\n",
       "      <td>3</td>\n",
       "      <td>11</td>\n",
       "      <td>0</td>\n",
       "    </tr>\n",
       "  </tbody>\n",
       "</table>\n",
       "<p>8 rows × 29 columns</p>\n",
       "</div>"
      ],
      "text/plain": [
       "         ID  Year_Birth   Education Marital_Status    Income  Kidhome  \\\n",
       "164    8475        1973         PhD        Married  157243.0        0   \n",
       "617    1503        1976         PhD       Together  162397.0        1   \n",
       "655    5555        1975  Graduation       Divorced  153924.0        0   \n",
       "687    1501        1982         PhD        Married  160803.0        0   \n",
       "1300   5336        1971      Master       Together  157733.0        1   \n",
       "1653   4931        1977  Graduation       Together  157146.0        0   \n",
       "2132  11181        1949         PhD        Married  156924.0        0   \n",
       "2233   9432        1977  Graduation       Together  666666.0        1   \n",
       "\n",
       "      Teenhome Dt_Customer  Recency  MntWines  ...  NumWebVisitsMonth  \\\n",
       "164          1  01-03-2014       98        20  ...                  0   \n",
       "617          1  03-06-2013       31        85  ...                  1   \n",
       "655          0  07-02-2014       81         1  ...                  0   \n",
       "687          0  04-08-2012       21        55  ...                  0   \n",
       "1300         0  04-06-2013       37        39  ...                  1   \n",
       "1653         0  29-04-2013       13         1  ...                  1   \n",
       "2132         0  29-08-2013       85         2  ...                  0   \n",
       "2233         0  02-06-2013       23         9  ...                  6   \n",
       "\n",
       "      AcceptedCmp3  AcceptedCmp4  AcceptedCmp5  AcceptedCmp1  AcceptedCmp2  \\\n",
       "164              0             0             0             0             0   \n",
       "617              0             0             0             0             0   \n",
       "655              0             0             0             0             0   \n",
       "687              0             0             0             0             0   \n",
       "1300             0             0             0             0             0   \n",
       "1653             0             0             0             0             0   \n",
       "2132             0             0             0             0             0   \n",
       "2233             0             0             0             0             0   \n",
       "\n",
       "      Complain  Z_CostContact  Z_Revenue  Response  \n",
       "164          0              3         11         0  \n",
       "617          0              3         11         0  \n",
       "655          0              3         11         0  \n",
       "687          0              3         11         0  \n",
       "1300         0              3         11         0  \n",
       "1653         0              3         11         0  \n",
       "2132         0              3         11         0  \n",
       "2233         0              3         11         0  \n",
       "\n",
       "[8 rows x 29 columns]"
      ]
     },
     "execution_count": 21,
     "metadata": {},
     "output_type": "execute_result"
    }
   ],
   "source": [
    "customer_df[customer_df['Income'] >= 153924]"
   ]
  },
  {
   "cell_type": "markdown",
   "metadata": {},
   "source": [
    "#### 2) Recency : 고객의 마지막 구매 이후 일수"
   ]
  },
  {
   "cell_type": "code",
   "execution_count": 30,
   "metadata": {},
   "outputs": [
    {
     "data": {
      "text/plain": [
       "<AxesSubplot:>"
      ]
     },
     "execution_count": 30,
     "metadata": {},
     "output_type": "execute_result"
    },
    {
     "data": {
      "image/png": "[encoded data removed]",
      "text/plain": [
       "<Figure size 432x288 with 1 Axes>"
      ]
     },
     "metadata": {
      "needs_background": "light"
     },
     "output_type": "display_data"
    }
   ],
   "source": [
    "sns.boxplot(data = customer_df['Recency'])"
   ]
  },
  {
   "cell_type": "markdown",
   "metadata": {},
   "source": [
    "#### 3) 지난 2년 동안 와인, 과일, 육류, 물고기, 과자, 골드에 지출한 금액"
   ]
  },
  {
   "cell_type": "markdown",
   "metadata": {},
   "source": [
    "- MntWines : 지난 2년 동안 와인에 지출한 금액\n",
    "- MntFruits : 지난 2년 동안 과일에 지출한 금액\n",
    "- MntMeatProducts : 지난 2년 동안 육류에 지출한 금액\n",
    "- MntFishProducts : 지난 2년 동안 물고기에 지출한 금액\n",
    "- MntSweetProducts : 지난 2년 동안 과자에 지출한 금액\n",
    "- MntGoldProds : 지난 2년 동안 골드에 지출한 금액"
   ]
  },
  {
   "cell_type": "code",
   "execution_count": 117,
   "metadata": {},
   "outputs": [
    {
     "name": "stdout",
     "output_type": "stream",
     "text": [
      "-697.5\n",
      "1226.5\n"
     ]
    },
    {
     "data": {
      "text/plain": [
       "35"
      ]
     },
     "execution_count": 117,
     "metadata": {},
     "output_type": "execute_result"
    }
   ],
   "source": [
    "# 4분위수, IQR 계산\n",
    "\n",
    "q1 = customer_df['MntWines'].quantile(0.25)\n",
    "q2 = customer_df['MntWines'].quantile(0.5)\n",
    "q3 = customer_df['MntWines'].quantile(0.75)\n",
    "\n",
    "iqr = q3 - q1\n",
    "iqr\n",
    "\n",
    "# outlier cutoff, lower/upper bound 계산\n",
    "\n",
    "cut_off = iqr * 1.5\n",
    "\n",
    "lower = q1 - cut_off\n",
    "upper = q3 + cut_off\n",
    "\n",
    "print(lower)\n",
    "print(upper)\n",
    "\n",
    "# 1사분위와 4사분위에 속해있는 데이터 각각 저장    \n",
    "\n",
    "data1 = customer_df[customer_df['MntWines'] > upper]\n",
    "data2 = customer_df[customer_df['MntWines'] < lower]\n",
    "\n",
    "# 이상치 개수\n",
    "\n",
    "data1.shape[0] + data2.shape[0]"
   ]
  },
  {
   "cell_type": "code",
   "execution_count": 118,
   "metadata": {},
   "outputs": [
    {
     "name": "stdout",
     "output_type": "stream",
     "text": [
      "-44.5\n",
      "79.5\n"
     ]
    },
    {
     "data": {
      "text/plain": [
       "246"
      ]
     },
     "execution_count": 118,
     "metadata": {},
     "output_type": "execute_result"
    }
   ],
   "source": [
    "# 4분위수, IQR 계산\n",
    "\n",
    "q1 = customer_df['MntFruits'].quantile(0.25)\n",
    "q2 = customer_df['MntFruits'].quantile(0.5)\n",
    "q3 = customer_df['MntFruits'].quantile(0.75)\n",
    "\n",
    "iqr = q3 - q1\n",
    "iqr\n",
    "\n",
    "# outlier cutoff, lower/upper bound 계산\n",
    "\n",
    "cut_off = iqr * 1.5\n",
    "\n",
    "lower = q1 - cut_off\n",
    "upper = q3 + cut_off\n",
    "\n",
    "print(lower)\n",
    "print(upper)\n",
    "\n",
    "# 1사분위와 4사분위에 속해있는 데이터 각각 저장    \n",
    "\n",
    "data1 = customer_df[customer_df['MntFruits'] > upper]\n",
    "data2 = customer_df[customer_df['MntFruits'] < lower]\n",
    "\n",
    "# 이상치 개수\n",
    "\n",
    "data1.shape[0] + data2.shape[0]"
   ]
  },
  {
   "cell_type": "code",
   "execution_count": 119,
   "metadata": {},
   "outputs": [
    {
     "name": "stdout",
     "output_type": "stream",
     "text": [
      "-308.375\n",
      "556.625\n"
     ]
    },
    {
     "data": {
      "text/plain": [
       "174"
      ]
     },
     "execution_count": 119,
     "metadata": {},
     "output_type": "execute_result"
    }
   ],
   "source": [
    "# 4분위수, IQR 계산\n",
    "\n",
    "q1 = customer_df['MntMeatProducts'].quantile(0.25)\n",
    "q2 = customer_df['MntMeatProducts'].quantile(0.5)\n",
    "q3 = customer_df['MntMeatProducts'].quantile(0.75)\n",
    "\n",
    "iqr = q3 - q1\n",
    "iqr\n",
    "\n",
    "# outlier cutoff, lower/upper bound 계산\n",
    "\n",
    "cut_off = iqr * 1.5\n",
    "\n",
    "lower = q1 - cut_off\n",
    "upper = q3 + cut_off\n",
    "\n",
    "print(lower)\n",
    "print(upper)\n",
    "\n",
    "# 1사분위와 4사분위에 속해있는 데이터 각각 저장    \n",
    "\n",
    "data1 = customer_df[customer_df['MntMeatProducts'] > upper]\n",
    "data2 = customer_df[customer_df['MntMeatProducts'] < lower]\n",
    "\n",
    "# 이상치 개수\n",
    "\n",
    "data1.shape[0] + data2.shape[0]"
   ]
  },
  {
   "cell_type": "code",
   "execution_count": 120,
   "metadata": {},
   "outputs": [
    {
     "name": "stdout",
     "output_type": "stream",
     "text": [
      "-47.0\n",
      "81.0\n"
     ]
    },
    {
     "data": {
      "text/plain": [
       "246"
      ]
     },
     "execution_count": 120,
     "metadata": {},
     "output_type": "execute_result"
    }
   ],
   "source": [
    "# 4분위수, IQR 계산\n",
    "\n",
    "q1 = customer_df['MntSweetProducts'].quantile(0.25)\n",
    "q2 = customer_df['MntSweetProducts'].quantile(0.5)\n",
    "q3 = customer_df['MntSweetProducts'].quantile(0.75)\n",
    "\n",
    "iqr = q3 - q1\n",
    "iqr\n",
    "\n",
    "# outlier cutoff, lower/upper bound 계산\n",
    "\n",
    "cut_off = iqr * 1.5\n",
    "\n",
    "lower = q1 - cut_offb\n",
    "upper = q3 + cut_off\n",
    "\n",
    "print(lower)\n",
    "print(upper)\n",
    "\n",
    "# 1사분위와 4사분위에 속해있는 데이터 각각 저장    \n",
    "\n",
    "data1 = customer_df[customer_df['MntSweetProducts'] > upper]\n",
    "data2 = customer_df[customer_df['MntSweetProducts'] < lower]\n",
    "\n",
    "# 이상치 개수\n",
    "\n",
    "data1.shape[0] + data2.shape[0]"
   ]
  },
  {
   "cell_type": "code",
   "execution_count": 124,
   "metadata": {},
   "outputs": [
    {
     "data": {
      "text/plain": [
       "<AxesSubplot:xlabel='MntSweetProducts'>"
      ]
     },
     "execution_count": 124,
     "metadata": {},
     "output_type": "execute_result"
    },
    {
     "data": {
      "image/png": "[encoded data removed]",
      "text/plain": [
       "<Figure size 432x288 with 1 Axes>"
      ]
     },
     "metadata": {
      "needs_background": "light"
     },
     "output_type": "display_data"
    }
   ],
   "source": [
    "sns.boxplot(customer_df['MntSweetProducts'])"
   ]
  },
  {
   "cell_type": "code",
   "execution_count": 128,
   "metadata": {},
   "outputs": [
    {
     "name": "stdout",
     "output_type": "stream",
     "text": [
      "27.028880866425993\n",
      "8.0\n"
     ]
    }
   ],
   "source": [
    "print(customer_df['MntSweetProducts'].mean())\n",
    "print(customer_df['MntSweetProducts'].median())"
   ]
  },
  {
   "cell_type": "code",
   "execution_count": 126,
   "metadata": {},
   "outputs": [
    {
     "data": {
      "text/plain": [
       "12      63033.0\n",
       "40      80011.0\n",
       "51      79143.0\n",
       "55      82384.0\n",
       "56      70287.0\n",
       "         ...   \n",
       "2168    90000.0\n",
       "2190    89616.0\n",
       "2193    82347.0\n",
       "2217    82032.0\n",
       "2235    61223.0\n",
       "Name: Income, Length: 178, dtype: float64"
      ]
     },
     "execution_count": 126,
     "metadata": {},
     "output_type": "execute_result"
    }
   ],
   "source": [
    "customer_df[customer_df['MntSweetProducts'] > 100]['Income']"
   ]
  },
  {
   "cell_type": "code",
   "execution_count": 129,
   "metadata": {},
   "outputs": [
    {
     "data": {
      "text/plain": [
       "<AxesSubplot:xlabel='MntMeatProducts'>"
      ]
     },
     "execution_count": 129,
     "metadata": {},
     "output_type": "execute_result"
    },
    {
     "data": {
      "image/png": "[encoded data removed]",
      "text/plain": [
       "<Figure size 432x288 with 1 Axes>"
      ]
     },
     "metadata": {
      "needs_background": "light"
     },
     "output_type": "display_data"
    }
   ],
   "source": [
    "sns.boxplot(customer_df['MntMeatProducts'])"
   ]
  },
  {
   "cell_type": "code",
   "execution_count": 131,
   "metadata": {},
   "outputs": [
    {
     "data": {
      "text/html": [
       "<div>\n",
       "<style scoped>\n",
       "    .dataframe tbody tr th:only-of-type {\n",
       "        vertical-align: middle;\n",
       "    }\n",
       "\n",
       "    .dataframe tbody tr th {\n",
       "        vertical-align: top;\n",
       "    }\n",
       "\n",
       "    .dataframe thead th {\n",
       "        text-align: right;\n",
       "    }\n",
       "</style>\n",
       "<table border=\"1\" class=\"dataframe\">\n",
       "  <thead>\n",
       "    <tr style=\"text-align: right;\">\n",
       "      <th></th>\n",
       "      <th>ID</th>\n",
       "      <th>Year_Birth</th>\n",
       "      <th>Education</th>\n",
       "      <th>Marital_Status</th>\n",
       "      <th>Income</th>\n",
       "      <th>Kidhome</th>\n",
       "      <th>Teenhome</th>\n",
       "      <th>Dt_Customer</th>\n",
       "      <th>Recency</th>\n",
       "      <th>MntWines</th>\n",
       "      <th>...</th>\n",
       "      <th>AcceptedCmp2</th>\n",
       "      <th>Complain</th>\n",
       "      <th>Z_CostContact</th>\n",
       "      <th>Z_Revenue</th>\n",
       "      <th>Response</th>\n",
       "      <th>Expenditure</th>\n",
       "      <th>NumChildren</th>\n",
       "      <th>Time</th>\n",
       "      <th>Dt_year</th>\n",
       "      <th>Period</th>\n",
       "    </tr>\n",
       "  </thead>\n",
       "  <tbody>\n",
       "    <tr>\n",
       "      <th>21</th>\n",
       "      <td>5376</td>\n",
       "      <td>1979</td>\n",
       "      <td>Graduation</td>\n",
       "      <td>Married</td>\n",
       "      <td>2447.0</td>\n",
       "      <td>1</td>\n",
       "      <td>0</td>\n",
       "      <td>06-01-2013</td>\n",
       "      <td>42</td>\n",
       "      <td>1</td>\n",
       "      <td>...</td>\n",
       "      <td>0</td>\n",
       "      <td>0</td>\n",
       "      <td>3</td>\n",
       "      <td>11</td>\n",
       "      <td>0</td>\n",
       "      <td>1730</td>\n",
       "      <td>1</td>\n",
       "      <td>2013-01-06</td>\n",
       "      <td>2013</td>\n",
       "      <td>3479</td>\n",
       "    </tr>\n",
       "    <tr>\n",
       "      <th>164</th>\n",
       "      <td>8475</td>\n",
       "      <td>1973</td>\n",
       "      <td>PhD</td>\n",
       "      <td>Married</td>\n",
       "      <td>157243.0</td>\n",
       "      <td>0</td>\n",
       "      <td>1</td>\n",
       "      <td>01-03-2014</td>\n",
       "      <td>98</td>\n",
       "      <td>20</td>\n",
       "      <td>...</td>\n",
       "      <td>0</td>\n",
       "      <td>0</td>\n",
       "      <td>3</td>\n",
       "      <td>11</td>\n",
       "      <td>0</td>\n",
       "      <td>1608</td>\n",
       "      <td>1</td>\n",
       "      <td>2014-03-01</td>\n",
       "      <td>2014</td>\n",
       "      <td>3060</td>\n",
       "    </tr>\n",
       "    <tr>\n",
       "      <th>687</th>\n",
       "      <td>1501</td>\n",
       "      <td>1982</td>\n",
       "      <td>PhD</td>\n",
       "      <td>Married</td>\n",
       "      <td>160803.0</td>\n",
       "      <td>0</td>\n",
       "      <td>0</td>\n",
       "      <td>04-08-2012</td>\n",
       "      <td>21</td>\n",
       "      <td>55</td>\n",
       "      <td>...</td>\n",
       "      <td>0</td>\n",
       "      <td>0</td>\n",
       "      <td>3</td>\n",
       "      <td>11</td>\n",
       "      <td>0</td>\n",
       "      <td>1717</td>\n",
       "      <td>0</td>\n",
       "      <td>2012-08-04</td>\n",
       "      <td>2012</td>\n",
       "      <td>3634</td>\n",
       "    </tr>\n",
       "    <tr>\n",
       "      <th>1653</th>\n",
       "      <td>4931</td>\n",
       "      <td>1977</td>\n",
       "      <td>Graduation</td>\n",
       "      <td>Together</td>\n",
       "      <td>157146.0</td>\n",
       "      <td>0</td>\n",
       "      <td>0</td>\n",
       "      <td>29-04-2013</td>\n",
       "      <td>13</td>\n",
       "      <td>1</td>\n",
       "      <td>...</td>\n",
       "      <td>0</td>\n",
       "      <td>0</td>\n",
       "      <td>3</td>\n",
       "      <td>11</td>\n",
       "      <td>0</td>\n",
       "      <td>1730</td>\n",
       "      <td>0</td>\n",
       "      <td>2013-04-29</td>\n",
       "      <td>2013</td>\n",
       "      <td>3366</td>\n",
       "    </tr>\n",
       "  </tbody>\n",
       "</table>\n",
       "<p>4 rows × 34 columns</p>\n",
       "</div>"
      ],
      "text/plain": [
       "        ID  Year_Birth   Education Marital_Status    Income  Kidhome  \\\n",
       "21    5376        1979  Graduation        Married    2447.0        1   \n",
       "164   8475        1973         PhD        Married  157243.0        0   \n",
       "687   1501        1982         PhD        Married  160803.0        0   \n",
       "1653  4931        1977  Graduation       Together  157146.0        0   \n",
       "\n",
       "      Teenhome Dt_Customer  Recency  MntWines  ...  AcceptedCmp2  Complain  \\\n",
       "21           0  06-01-2013       42         1  ...             0         0   \n",
       "164          1  01-03-2014       98        20  ...             0         0   \n",
       "687          0  04-08-2012       21        55  ...             0         0   \n",
       "1653         0  29-04-2013       13         1  ...             0         0   \n",
       "\n",
       "      Z_CostContact  Z_Revenue  Response  Expenditure  NumChildren       Time  \\\n",
       "21                3         11         0         1730            1 2013-01-06   \n",
       "164               3         11         0         1608            1 2014-03-01   \n",
       "687               3         11         0         1717            0 2012-08-04   \n",
       "1653              3         11         0         1730            0 2013-04-29   \n",
       "\n",
       "      Dt_year  Period  \n",
       "21       2013    3479  \n",
       "164      2014    3060  \n",
       "687      2012    3634  \n",
       "1653     2013    3366  \n",
       "\n",
       "[4 rows x 34 columns]"
      ]
     },
     "execution_count": 131,
     "metadata": {},
     "output_type": "execute_result"
    }
   ],
   "source": [
    "customer_df[customer_df['MntMeatProducts'] > 1500]"
   ]
  },
  {
   "cell_type": "code",
   "execution_count": 133,
   "metadata": {},
   "outputs": [
    {
     "data": {
      "text/plain": [
       "68.0"
      ]
     },
     "execution_count": 133,
     "metadata": {},
     "output_type": "execute_result"
    }
   ],
   "source": [
    "customer_df['MntMeatProducts'].median()"
   ]
  },
  {
   "cell_type": "code",
   "execution_count": 135,
   "metadata": {},
   "outputs": [
    {
     "data": {
      "text/plain": [
       "166.99593862815885"
      ]
     },
     "execution_count": 135,
     "metadata": {},
     "output_type": "execute_result"
    }
   ],
   "source": [
    "customer_df['MntMeatProducts'].mean()"
   ]
  },
  {
   "cell_type": "code",
   "execution_count": 121,
   "metadata": {},
   "outputs": [
    {
     "name": "stdout",
     "output_type": "stream",
     "text": [
      "-61.5\n",
      "126.5\n"
     ]
    },
    {
     "data": {
      "text/plain": [
       "205"
      ]
     },
     "execution_count": 121,
     "metadata": {},
     "output_type": "execute_result"
    }
   ],
   "source": [
    "# 4분위수, IQR 계산\n",
    "\n",
    "q1 = customer_df['MntGoldProds'].quantile(0.25)\n",
    "q2 = customer_df['MntGoldProds'].quantile(0.5)\n",
    "q3 = customer_df['MntGoldProds'].quantile(0.75)\n",
    "\n",
    "iqr = q3 - q1\n",
    "iqr\n",
    "\n",
    "# outlier cutoff, lower/upper bound 계산\n",
    "\n",
    "cut_off = iqr * 1.5\n",
    "\n",
    "lower = q1 - cut_off\n",
    "upper = q3 + cut_off\n",
    "\n",
    "print(lower)\n",
    "print(upper)\n",
    "\n",
    "# 1사분위와 4사분위에 속해있는 데이터 각각 저장    \n",
    "\n",
    "data1 = customer_df[customer_df['MntGoldProds'] > upper]\n",
    "data2 = customer_df[customer_df['MntGoldProds'] < lower]\n",
    "\n",
    "# 이상치 개수\n",
    "\n",
    "data1.shape[0] + data2.shape[0]"
   ]
  },
  {
   "cell_type": "code",
   "execution_count": 48,
   "metadata": {},
   "outputs": [
    {
     "data": {
      "text/html": [
       "<div>\n",
       "<style scoped>\n",
       "    .dataframe tbody tr th:only-of-type {\n",
       "        vertical-align: middle;\n",
       "    }\n",
       "\n",
       "    .dataframe tbody tr th {\n",
       "        vertical-align: top;\n",
       "    }\n",
       "\n",
       "    .dataframe thead th {\n",
       "        text-align: right;\n",
       "    }\n",
       "</style>\n",
       "<table border=\"1\" class=\"dataframe\">\n",
       "  <thead>\n",
       "    <tr style=\"text-align: right;\">\n",
       "      <th></th>\n",
       "      <th>MntWines</th>\n",
       "      <th>MntFruits</th>\n",
       "      <th>MntMeatProducts</th>\n",
       "      <th>MntFishProducts</th>\n",
       "      <th>MntSweetProducts</th>\n",
       "      <th>MntGoldProds</th>\n",
       "    </tr>\n",
       "  </thead>\n",
       "  <tbody>\n",
       "    <tr>\n",
       "      <th>count</th>\n",
       "      <td>2216.000000</td>\n",
       "      <td>2216.000000</td>\n",
       "      <td>2216.000000</td>\n",
       "      <td>2216.000000</td>\n",
       "      <td>2216.000000</td>\n",
       "      <td>2216.000000</td>\n",
       "    </tr>\n",
       "    <tr>\n",
       "      <th>mean</th>\n",
       "      <td>305.091606</td>\n",
       "      <td>26.356047</td>\n",
       "      <td>166.995939</td>\n",
       "      <td>37.637635</td>\n",
       "      <td>27.028881</td>\n",
       "      <td>43.965253</td>\n",
       "    </tr>\n",
       "    <tr>\n",
       "      <th>std</th>\n",
       "      <td>337.327920</td>\n",
       "      <td>39.793917</td>\n",
       "      <td>224.283273</td>\n",
       "      <td>54.752082</td>\n",
       "      <td>41.072046</td>\n",
       "      <td>51.815414</td>\n",
       "    </tr>\n",
       "    <tr>\n",
       "      <th>min</th>\n",
       "      <td>0.000000</td>\n",
       "      <td>0.000000</td>\n",
       "      <td>0.000000</td>\n",
       "      <td>0.000000</td>\n",
       "      <td>0.000000</td>\n",
       "      <td>0.000000</td>\n",
       "    </tr>\n",
       "    <tr>\n",
       "      <th>25%</th>\n",
       "      <td>24.000000</td>\n",
       "      <td>2.000000</td>\n",
       "      <td>16.000000</td>\n",
       "      <td>3.000000</td>\n",
       "      <td>1.000000</td>\n",
       "      <td>9.000000</td>\n",
       "    </tr>\n",
       "    <tr>\n",
       "      <th>50%</th>\n",
       "      <td>174.500000</td>\n",
       "      <td>8.000000</td>\n",
       "      <td>68.000000</td>\n",
       "      <td>12.000000</td>\n",
       "      <td>8.000000</td>\n",
       "      <td>24.500000</td>\n",
       "    </tr>\n",
       "    <tr>\n",
       "      <th>75%</th>\n",
       "      <td>505.000000</td>\n",
       "      <td>33.000000</td>\n",
       "      <td>232.250000</td>\n",
       "      <td>50.000000</td>\n",
       "      <td>33.000000</td>\n",
       "      <td>56.000000</td>\n",
       "    </tr>\n",
       "    <tr>\n",
       "      <th>max</th>\n",
       "      <td>1493.000000</td>\n",
       "      <td>199.000000</td>\n",
       "      <td>1725.000000</td>\n",
       "      <td>259.000000</td>\n",
       "      <td>262.000000</td>\n",
       "      <td>321.000000</td>\n",
       "    </tr>\n",
       "  </tbody>\n",
       "</table>\n",
       "</div>"
      ],
      "text/plain": [
       "          MntWines    MntFruits  MntMeatProducts  MntFishProducts  \\\n",
       "count  2216.000000  2216.000000      2216.000000      2216.000000   \n",
       "mean    305.091606    26.356047       166.995939        37.637635   \n",
       "std     337.327920    39.793917       224.283273        54.752082   \n",
       "min       0.000000     0.000000         0.000000         0.000000   \n",
       "25%      24.000000     2.000000        16.000000         3.000000   \n",
       "50%     174.500000     8.000000        68.000000        12.000000   \n",
       "75%     505.000000    33.000000       232.250000        50.000000   \n",
       "max    1493.000000   199.000000      1725.000000       259.000000   \n",
       "\n",
       "       MntSweetProducts  MntGoldProds  \n",
       "count       2216.000000   2216.000000  \n",
       "mean          27.028881     43.965253  \n",
       "std           41.072046     51.815414  \n",
       "min            0.000000      0.000000  \n",
       "25%            1.000000      9.000000  \n",
       "50%            8.000000     24.500000  \n",
       "75%           33.000000     56.000000  \n",
       "max          262.000000    321.000000  "
      ]
     },
     "execution_count": 48,
     "metadata": {},
     "output_type": "execute_result"
    }
   ],
   "source": [
    "customer_df[['MntWines', 'MntFruits', 'MntMeatProducts', 'MntFishProducts', 'MntSweetProducts', 'MntGoldProds']].describe()"
   ]
  },
  {
   "cell_type": "markdown",
   "metadata": {},
   "source": [
    "-> 1,493달러 = 197만 8,225 원\n",
    "\n",
    "-> 1,725달러 = 228만 5,625 원"
   ]
  },
  {
   "cell_type": "markdown",
   "metadata": {},
   "source": [
    "<span style='background-color: #fff5b1'>**1. Age 100살 이상 지우기**</span>\n",
    "\n",
    "<span style='background-color: #fff5b1'>**2. Income 결측치 24개 지우기**</span>\n",
    "\n",
    "<span style='background-color: #fff5b1'>**3. Income 이상치 8개 지우기**</span>\n",
    "\n",
    "<span style='background-color: #fff5b1'>**4. Mnt 이상치는 그대로 사용하기**</span>"
   ]
  },
  {
   "cell_type": "markdown",
   "metadata": {},
   "source": [
    "======================================================================================================================"
   ]
  },
  {
   "cell_type": "markdown",
   "metadata": {},
   "source": [
    "## 2. 추가변수, 파생변수 생성"
   ]
  },
  {
   "cell_type": "markdown",
   "metadata": {},
   "source": [
    "### 1. Year_Birth : 출생연도 -> Age(나이대별로)"
   ]
  },
  {
   "cell_type": "code",
   "execution_count": 49,
   "metadata": {},
   "outputs": [],
   "source": [
    "customer_df['Age'] = 2022 - customer_df['Year_Birth']"
   ]
  },
  {
   "cell_type": "code",
   "execution_count": 51,
   "metadata": {},
   "outputs": [
    {
     "data": {
      "text/plain": [
       "<AxesSubplot:>"
      ]
     },
     "execution_count": 51,
     "metadata": {},
     "output_type": "execute_result"
    },
    {
     "data": {
      "image/png": "[encoded data removed]",
      "text/plain": [
       "<Figure size 432x288 with 1 Axes>"
      ]
     },
     "metadata": {
      "needs_background": "light"
     },
     "output_type": "display_data"
    }
   ],
   "source": [
    "sns.kdeplot(customer_df['Age'])"
   ]
  },
  {
   "cell_type": "markdown",
   "metadata": {},
   "source": [
    "### 2. Marital_Status -> 싱글인지 여부"
   ]
  },
  {
   "cell_type": "code",
   "execution_count": 56,
   "metadata": {},
   "outputs": [
    {
     "data": {
      "text/plain": [
       "<AxesSubplot:xlabel='Marital_Status', ylabel='count'>"
      ]
     },
     "execution_count": 56,
     "metadata": {},
     "output_type": "execute_result"
    },
    {
     "data": {
      "image/png": "[encoded data removed]",
      "text/plain": [
       "<Figure size 432x288 with 1 Axes>"
      ]
     },
     "metadata": {
      "needs_background": "light"
     },
     "output_type": "display_data"
    }
   ],
   "source": [
    "sns.countplot(customer_df['Marital_Status'])"
   ]
  },
  {
   "cell_type": "markdown",
   "metadata": {},
   "source": [
    "- single\n",
    "- together\n",
    "- married \n",
    "- divorced marital\n",
    "- widow status (사별)\n",
    "- absurd\n",
    "- YOLO"
   ]
  },
  {
   "cell_type": "code",
   "execution_count": 101,
   "metadata": {},
   "outputs": [
    {
     "data": {
      "text/plain": [
       "3"
      ]
     },
     "execution_count": 101,
     "metadata": {},
     "output_type": "execute_result"
    }
   ],
   "source": [
    "(customer_df['Marital_Status'] == 'Alone').sum()"
   ]
  },
  {
   "cell_type": "code",
   "execution_count": 102,
   "metadata": {},
   "outputs": [
    {
     "data": {
      "text/plain": [
       "0"
      ]
     },
     "execution_count": 102,
     "metadata": {},
     "output_type": "execute_result"
    }
   ],
   "source": [
    "(customer_df['Marital_Status'] == 'absurd').sum()"
   ]
  },
  {
   "cell_type": "code",
   "execution_count": 103,
   "metadata": {},
   "outputs": [
    {
     "data": {
      "text/plain": [
       "2"
      ]
     },
     "execution_count": 103,
     "metadata": {},
     "output_type": "execute_result"
    }
   ],
   "source": [
    "(customer_df['Marital_Status'] == 'YOLO').sum()"
   ]
  },
  {
   "cell_type": "markdown",
   "metadata": {},
   "source": [
    "<span style='background-color: #fff5b1'>**-> YOLO?**</span>"
   ]
  },
  {
   "cell_type": "markdown",
   "metadata": {},
   "source": [
    "### 3. Kidhome, Teenhome -> NumChildren (총 자녀 수)\n",
    "\n",
    "- Kidhome : 0~13살 자녀 수\n",
    "- Teenhome : 14~19살 자녀 수"
   ]
  },
  {
   "cell_type": "code",
   "execution_count": 57,
   "metadata": {},
   "outputs": [
    {
     "data": {
      "text/plain": [
       "<AxesSubplot:xlabel='Kidhome', ylabel='count'>"
      ]
     },
     "execution_count": 57,
     "metadata": {},
     "output_type": "execute_result"
    },
    {
     "data": {
      "image/png": "[encoded data removed]",
      "text/plain": [
       "<Figure size 432x288 with 1 Axes>"
      ]
     },
     "metadata": {
      "needs_background": "light"
     },
     "output_type": "display_data"
    }
   ],
   "source": [
    "sns.countplot(customer_df['Kidhome'])"
   ]
  },
  {
   "cell_type": "code",
   "execution_count": 58,
   "metadata": {},
   "outputs": [
    {
     "data": {
      "text/plain": [
       "<AxesSubplot:xlabel='Teenhome', ylabel='count'>"
      ]
     },
     "execution_count": 58,
     "metadata": {},
     "output_type": "execute_result"
    },
    {
     "data": {
      "image/png": "[encoded data removed]",
      "text/plain": [
       "<Figure size 432x288 with 1 Axes>"
      ]
     },
     "metadata": {
      "needs_background": "light"
     },
     "output_type": "display_data"
    }
   ],
   "source": [
    "sns.countplot(customer_df['Teenhome'])"
   ]
  },
  {
   "cell_type": "code",
   "execution_count": 73,
   "metadata": {},
   "outputs": [],
   "source": [
    "customer_df['NumChildren'] = customer_df['Kidhome'] + customer_df['Teenhome']"
   ]
  },
  {
   "cell_type": "code",
   "execution_count": 74,
   "metadata": {},
   "outputs": [
    {
     "data": {
      "text/plain": [
       "0       0\n",
       "1       2\n",
       "2       0\n",
       "3       1\n",
       "4       1\n",
       "       ..\n",
       "2235    1\n",
       "2236    3\n",
       "2237    0\n",
       "2238    1\n",
       "2239    2\n",
       "Name: NumChildren, Length: 2216, dtype: int64"
      ]
     },
     "execution_count": 74,
     "metadata": {},
     "output_type": "execute_result"
    }
   ],
   "source": [
    "customer_df['NumChildren']"
   ]
  },
  {
   "cell_type": "code",
   "execution_count": 76,
   "metadata": {},
   "outputs": [
    {
     "data": {
      "text/plain": [
       "<AxesSubplot:xlabel='NumChildren', ylabel='count'>"
      ]
     },
     "execution_count": 76,
     "metadata": {},
     "output_type": "execute_result"
    },
    {
     "data": {
      "image/png": "[encoded data removed]",
      "text/plain": [
       "<Figure size 432x288 with 1 Axes>"
      ]
     },
     "metadata": {
      "needs_background": "light"
     },
     "output_type": "display_data"
    }
   ],
   "source": [
    "sns.countplot(customer_df['NumChildren'])"
   ]
  },
  {
   "cell_type": "markdown",
   "metadata": {},
   "source": [
    "-> 자녀가 없는 가구, 다자녀 가구, ... 등으로 구분"
   ]
  },
  {
   "cell_type": "markdown",
   "metadata": {},
   "source": [
    "### 4. 웹사이트 / 카탈로그 / 매장 직접 구매 중 주로 어떤 방식을 사용하는지"
   ]
  },
  {
   "cell_type": "markdown",
   "metadata": {},
   "source": [
    "- NumWebPurchases : 회사 웹사이트를 통한 구매 건수\n",
    "- NumCatalogPurchases : 카탈로그를 사용한 구매 수\n",
    "- NumStorePurchases : 매장에서 직접 구매한 횟수"
   ]
  },
  {
   "cell_type": "code",
   "execution_count": 80,
   "metadata": {},
   "outputs": [
    {
     "data": {
      "text/html": [
       "<div>\n",
       "<style scoped>\n",
       "    .dataframe tbody tr th:only-of-type {\n",
       "        vertical-align: middle;\n",
       "    }\n",
       "\n",
       "    .dataframe tbody tr th {\n",
       "        vertical-align: top;\n",
       "    }\n",
       "\n",
       "    .dataframe thead th {\n",
       "        text-align: right;\n",
       "    }\n",
       "</style>\n",
       "<table border=\"1\" class=\"dataframe\">\n",
       "  <thead>\n",
       "    <tr style=\"text-align: right;\">\n",
       "      <th></th>\n",
       "      <th>NumWebPurchases</th>\n",
       "      <th>NumCatalogPurchases</th>\n",
       "      <th>NumStorePurchases</th>\n",
       "    </tr>\n",
       "  </thead>\n",
       "  <tbody>\n",
       "    <tr>\n",
       "      <th>0</th>\n",
       "      <td>8</td>\n",
       "      <td>10</td>\n",
       "      <td>4</td>\n",
       "    </tr>\n",
       "    <tr>\n",
       "      <th>1</th>\n",
       "      <td>1</td>\n",
       "      <td>1</td>\n",
       "      <td>2</td>\n",
       "    </tr>\n",
       "    <tr>\n",
       "      <th>2</th>\n",
       "      <td>8</td>\n",
       "      <td>2</td>\n",
       "      <td>10</td>\n",
       "    </tr>\n",
       "    <tr>\n",
       "      <th>3</th>\n",
       "      <td>2</td>\n",
       "      <td>0</td>\n",
       "      <td>4</td>\n",
       "    </tr>\n",
       "    <tr>\n",
       "      <th>4</th>\n",
       "      <td>5</td>\n",
       "      <td>3</td>\n",
       "      <td>6</td>\n",
       "    </tr>\n",
       "    <tr>\n",
       "      <th>...</th>\n",
       "      <td>...</td>\n",
       "      <td>...</td>\n",
       "      <td>...</td>\n",
       "    </tr>\n",
       "    <tr>\n",
       "      <th>2235</th>\n",
       "      <td>9</td>\n",
       "      <td>3</td>\n",
       "      <td>4</td>\n",
       "    </tr>\n",
       "    <tr>\n",
       "      <th>2236</th>\n",
       "      <td>8</td>\n",
       "      <td>2</td>\n",
       "      <td>5</td>\n",
       "    </tr>\n",
       "    <tr>\n",
       "      <th>2237</th>\n",
       "      <td>2</td>\n",
       "      <td>3</td>\n",
       "      <td>13</td>\n",
       "    </tr>\n",
       "    <tr>\n",
       "      <th>2238</th>\n",
       "      <td>6</td>\n",
       "      <td>5</td>\n",
       "      <td>10</td>\n",
       "    </tr>\n",
       "    <tr>\n",
       "      <th>2239</th>\n",
       "      <td>3</td>\n",
       "      <td>1</td>\n",
       "      <td>4</td>\n",
       "    </tr>\n",
       "  </tbody>\n",
       "</table>\n",
       "<p>2216 rows × 3 columns</p>\n",
       "</div>"
      ],
      "text/plain": [
       "      NumWebPurchases  NumCatalogPurchases  NumStorePurchases\n",
       "0                   8                   10                  4\n",
       "1                   1                    1                  2\n",
       "2                   8                    2                 10\n",
       "3                   2                    0                  4\n",
       "4                   5                    3                  6\n",
       "...               ...                  ...                ...\n",
       "2235                9                    3                  4\n",
       "2236                8                    2                  5\n",
       "2237                2                    3                 13\n",
       "2238                6                    5                 10\n",
       "2239                3                    1                  4\n",
       "\n",
       "[2216 rows x 3 columns]"
      ]
     },
     "execution_count": 80,
     "metadata": {},
     "output_type": "execute_result"
    }
   ],
   "source": [
    "customer_df[['NumWebPurchases', 'NumCatalogPurchases', 'NumStorePurchases']]"
   ]
  },
  {
   "cell_type": "code",
   "execution_count": null,
   "metadata": {},
   "outputs": [],
   "source": []
  },
  {
   "cell_type": "markdown",
   "metadata": {},
   "source": [
    "### 5. 2년간 와인/과일/육류/물고기/과자/골드 지출 금액 -> 2년간의 expenditure(총 지출 금액)\n",
    "\n",
    "+) Income(소득) 대비 지출 금액"
   ]
  },
  {
   "cell_type": "markdown",
   "metadata": {},
   "source": [
    "- MntWines : 지난 2년 동안 와인에 지출한 금액\n",
    "- MntFruits : 지난 2년 동안 과일에 지출한 금액\n",
    "- MntMeatProducts : 지난 2년 동안 육류에 지출한 금액\n",
    "- MntFishProducts : 지난 2년 동안 물고기에 지출한 금액\n",
    "- MntSweetProducts : 지난 2년 동안 과자에 지출한 금액\n",
    "- MntGoldProds : 지난 2년 동안 골드에 지출한 금액"
   ]
  },
  {
   "cell_type": "code",
   "execution_count": 70,
   "metadata": {},
   "outputs": [],
   "source": [
    "customer_df['Expenditure'] = customer_df['MntWines'] + customer_df['MntFruits'] + customer_df['MntMeatProducts'] + customer_df['MntFishProducts'] + customer_df['MntSweetProducts'] + customer_df['MntGoldProds']"
   ]
  },
  {
   "cell_type": "code",
   "execution_count": 71,
   "metadata": {},
   "outputs": [
    {
     "data": {
      "text/plain": [
       "0       1617\n",
       "1         27\n",
       "2        776\n",
       "3         53\n",
       "4        422\n",
       "        ... \n",
       "2235    1341\n",
       "2236     444\n",
       "2237    1241\n",
       "2238     843\n",
       "2239     172\n",
       "Name: Expenditure, Length: 2216, dtype: int64"
      ]
     },
     "execution_count": 71,
     "metadata": {},
     "output_type": "execute_result"
    }
   ],
   "source": [
    "customer_df['Expenditure']"
   ]
  },
  {
   "cell_type": "code",
   "execution_count": 72,
   "metadata": {},
   "outputs": [
    {
     "data": {
      "text/plain": [
       "<AxesSubplot:>"
      ]
     },
     "execution_count": 72,
     "metadata": {},
     "output_type": "execute_result"
    },
    {
     "data": {
      "image/png": "[encoded data removed]",
      "text/plain": [
       "<Figure size 432x288 with 1 Axes>"
      ]
     },
     "metadata": {
      "needs_background": "light"
     },
     "output_type": "display_data"
    }
   ],
   "source": [
    "sns.kdeplot(customer_df['Expenditure'])"
   ]
  },
  {
   "cell_type": "markdown",
   "metadata": {},
   "source": [
    "#### +) Income (소득)과 Expenditure(2년간 총 지출)/2 간의 상관관계 "
   ]
  },
  {
   "cell_type": "code",
   "execution_count": 77,
   "metadata": {},
   "outputs": [
    {
     "data": {
      "text/plain": [
       "<AxesSubplot:xlabel='Income', ylabel='Expenditure'>"
      ]
     },
     "execution_count": 77,
     "metadata": {},
     "output_type": "execute_result"
    },
    {
     "data": {
      "image/png": "[encoded data removed]",
      "text/plain": [
       "<Figure size 432x288 with 1 Axes>"
      ]
     },
     "metadata": {
      "needs_background": "light"
     },
     "output_type": "display_data"
    }
   ],
   "source": [
    "sns.scatterplot(customer_df['Income'], (customer_df['Expenditure']/2))"
   ]
  },
  {
   "cell_type": "code",
   "execution_count": 78,
   "metadata": {},
   "outputs": [
    {
     "data": {
      "text/html": [
       "<div>\n",
       "<style scoped>\n",
       "    .dataframe tbody tr th:only-of-type {\n",
       "        vertical-align: middle;\n",
       "    }\n",
       "\n",
       "    .dataframe tbody tr th {\n",
       "        vertical-align: top;\n",
       "    }\n",
       "\n",
       "    .dataframe thead th {\n",
       "        text-align: right;\n",
       "    }\n",
       "</style>\n",
       "<table border=\"1\" class=\"dataframe\">\n",
       "  <thead>\n",
       "    <tr style=\"text-align: right;\">\n",
       "      <th></th>\n",
       "      <th>ID</th>\n",
       "      <th>Year_Birth</th>\n",
       "      <th>Education</th>\n",
       "      <th>Marital_Status</th>\n",
       "      <th>Income</th>\n",
       "      <th>Kidhome</th>\n",
       "      <th>Teenhome</th>\n",
       "      <th>Dt_Customer</th>\n",
       "      <th>Recency</th>\n",
       "      <th>MntWines</th>\n",
       "      <th>...</th>\n",
       "      <th>AcceptedCmp4</th>\n",
       "      <th>AcceptedCmp5</th>\n",
       "      <th>AcceptedCmp1</th>\n",
       "      <th>AcceptedCmp2</th>\n",
       "      <th>Complain</th>\n",
       "      <th>Z_CostContact</th>\n",
       "      <th>Z_Revenue</th>\n",
       "      <th>Response</th>\n",
       "      <th>Expenditure</th>\n",
       "      <th>NumChildren</th>\n",
       "    </tr>\n",
       "  </thead>\n",
       "  <tbody>\n",
       "    <tr>\n",
       "      <th>2233</th>\n",
       "      <td>9432</td>\n",
       "      <td>1977</td>\n",
       "      <td>Graduation</td>\n",
       "      <td>Together</td>\n",
       "      <td>666666.0</td>\n",
       "      <td>1</td>\n",
       "      <td>0</td>\n",
       "      <td>02-06-2013</td>\n",
       "      <td>23</td>\n",
       "      <td>9</td>\n",
       "      <td>...</td>\n",
       "      <td>0</td>\n",
       "      <td>0</td>\n",
       "      <td>0</td>\n",
       "      <td>0</td>\n",
       "      <td>0</td>\n",
       "      <td>3</td>\n",
       "      <td>11</td>\n",
       "      <td>0</td>\n",
       "      <td>62</td>\n",
       "      <td>1</td>\n",
       "    </tr>\n",
       "  </tbody>\n",
       "</table>\n",
       "<p>1 rows × 31 columns</p>\n",
       "</div>"
      ],
      "text/plain": [
       "        ID  Year_Birth   Education Marital_Status    Income  Kidhome  \\\n",
       "2233  9432        1977  Graduation       Together  666666.0        1   \n",
       "\n",
       "      Teenhome Dt_Customer  Recency  MntWines  ...  AcceptedCmp4  \\\n",
       "2233         0  02-06-2013       23         9  ...             0   \n",
       "\n",
       "      AcceptedCmp5  AcceptedCmp1  AcceptedCmp2  Complain  Z_CostContact  \\\n",
       "2233             0             0             0         0              3   \n",
       "\n",
       "      Z_Revenue  Response  Expenditure  NumChildren  \n",
       "2233         11         0           62            1  \n",
       "\n",
       "[1 rows x 31 columns]"
      ]
     },
     "execution_count": 78,
     "metadata": {},
     "output_type": "execute_result"
    }
   ],
   "source": [
    "customer_df[customer_df['Income'] > 600000]"
   ]
  },
  {
   "cell_type": "markdown",
   "metadata": {},
   "source": [
    "<span style='background-color: #fff5b1'>**-> Income = 666,666달러인데 Expenditure = 62달러?**</span>"
   ]
  },
  {
   "cell_type": "markdown",
   "metadata": {},
   "source": [
    "### +) Expenditure 이상치 확인"
   ]
  },
  {
   "cell_type": "code",
   "execution_count": 107,
   "metadata": {},
   "outputs": [
    {
     "data": {
      "text/plain": [
       "<AxesSubplot:>"
      ]
     },
     "execution_count": 107,
     "metadata": {},
     "output_type": "execute_result"
    },
    {
     "data": {
      "image/png": "[encoded data removed]",
      "text/plain": [
       "<Figure size 432x288 with 1 Axes>"
      ]
     },
     "metadata": {
      "needs_background": "light"
     },
     "output_type": "display_data"
    }
   ],
   "source": [
    "sns.boxplot(data = customer_df['Expenditure'])"
   ]
  },
  {
   "cell_type": "code",
   "execution_count": 109,
   "metadata": {},
   "outputs": [
    {
     "data": {
      "text/html": [
       "<div>\n",
       "<style scoped>\n",
       "    .dataframe tbody tr th:only-of-type {\n",
       "        vertical-align: middle;\n",
       "    }\n",
       "\n",
       "    .dataframe tbody tr th {\n",
       "        vertical-align: top;\n",
       "    }\n",
       "\n",
       "    .dataframe thead th {\n",
       "        text-align: right;\n",
       "    }\n",
       "</style>\n",
       "<table border=\"1\" class=\"dataframe\">\n",
       "  <thead>\n",
       "    <tr style=\"text-align: right;\">\n",
       "      <th></th>\n",
       "      <th>ID</th>\n",
       "      <th>Year_Birth</th>\n",
       "      <th>Education</th>\n",
       "      <th>Marital_Status</th>\n",
       "      <th>Income</th>\n",
       "      <th>Kidhome</th>\n",
       "      <th>Teenhome</th>\n",
       "      <th>Dt_Customer</th>\n",
       "      <th>Recency</th>\n",
       "      <th>MntWines</th>\n",
       "      <th>...</th>\n",
       "      <th>AcceptedCmp1</th>\n",
       "      <th>AcceptedCmp2</th>\n",
       "      <th>Complain</th>\n",
       "      <th>Z_CostContact</th>\n",
       "      <th>Z_Revenue</th>\n",
       "      <th>Response</th>\n",
       "      <th>Expenditure</th>\n",
       "      <th>NumChildren</th>\n",
       "      <th>Time</th>\n",
       "      <th>Dt_year</th>\n",
       "    </tr>\n",
       "  </thead>\n",
       "  <tbody>\n",
       "    <tr>\n",
       "      <th>1179</th>\n",
       "      <td>5735</td>\n",
       "      <td>1991</td>\n",
       "      <td>Master</td>\n",
       "      <td>Single</td>\n",
       "      <td>90638.0</td>\n",
       "      <td>0</td>\n",
       "      <td>0</td>\n",
       "      <td>13-02-2014</td>\n",
       "      <td>29</td>\n",
       "      <td>1156</td>\n",
       "      <td>...</td>\n",
       "      <td>0</td>\n",
       "      <td>0</td>\n",
       "      <td>0</td>\n",
       "      <td>3</td>\n",
       "      <td>11</td>\n",
       "      <td>0</td>\n",
       "      <td>2525</td>\n",
       "      <td>0</td>\n",
       "      <td>2014-02-13</td>\n",
       "      <td>2014</td>\n",
       "    </tr>\n",
       "    <tr>\n",
       "      <th>1492</th>\n",
       "      <td>1763</td>\n",
       "      <td>1988</td>\n",
       "      <td>Graduation</td>\n",
       "      <td>Together</td>\n",
       "      <td>87679.0</td>\n",
       "      <td>0</td>\n",
       "      <td>0</td>\n",
       "      <td>27-07-2013</td>\n",
       "      <td>62</td>\n",
       "      <td>1259</td>\n",
       "      <td>...</td>\n",
       "      <td>1</td>\n",
       "      <td>0</td>\n",
       "      <td>0</td>\n",
       "      <td>3</td>\n",
       "      <td>11</td>\n",
       "      <td>1</td>\n",
       "      <td>2524</td>\n",
       "      <td>0</td>\n",
       "      <td>2013-07-27</td>\n",
       "      <td>2013</td>\n",
       "    </tr>\n",
       "    <tr>\n",
       "      <th>1572</th>\n",
       "      <td>5350</td>\n",
       "      <td>1991</td>\n",
       "      <td>Master</td>\n",
       "      <td>Single</td>\n",
       "      <td>90638.0</td>\n",
       "      <td>0</td>\n",
       "      <td>0</td>\n",
       "      <td>13-02-2014</td>\n",
       "      <td>29</td>\n",
       "      <td>1156</td>\n",
       "      <td>...</td>\n",
       "      <td>0</td>\n",
       "      <td>0</td>\n",
       "      <td>0</td>\n",
       "      <td>3</td>\n",
       "      <td>11</td>\n",
       "      <td>1</td>\n",
       "      <td>2525</td>\n",
       "      <td>0</td>\n",
       "      <td>2014-02-13</td>\n",
       "      <td>2014</td>\n",
       "    </tr>\n",
       "  </tbody>\n",
       "</table>\n",
       "<p>3 rows × 33 columns</p>\n",
       "</div>"
      ],
      "text/plain": [
       "        ID  Year_Birth   Education Marital_Status   Income  Kidhome  Teenhome  \\\n",
       "1179  5735        1991      Master         Single  90638.0        0         0   \n",
       "1492  1763        1988  Graduation       Together  87679.0        0         0   \n",
       "1572  5350        1991      Master         Single  90638.0        0         0   \n",
       "\n",
       "     Dt_Customer  Recency  MntWines  ...  AcceptedCmp1  AcceptedCmp2  \\\n",
       "1179  13-02-2014       29      1156  ...             0             0   \n",
       "1492  27-07-2013       62      1259  ...             1             0   \n",
       "1572  13-02-2014       29      1156  ...             0             0   \n",
       "\n",
       "      Complain  Z_CostContact  Z_Revenue  Response  Expenditure  NumChildren  \\\n",
       "1179         0              3         11         0         2525            0   \n",
       "1492         0              3         11         1         2524            0   \n",
       "1572         0              3         11         1         2525            0   \n",
       "\n",
       "           Time  Dt_year  \n",
       "1179 2014-02-13     2014  \n",
       "1492 2013-07-27     2013  \n",
       "1572 2014-02-13     2014  \n",
       "\n",
       "[3 rows x 33 columns]"
      ]
     },
     "execution_count": 109,
     "metadata": {},
     "output_type": "execute_result"
    }
   ],
   "source": [
    "customer_df[customer_df['Expenditure'] > 2500]"
   ]
  },
  {
   "cell_type": "markdown",
   "metadata": {},
   "source": [
    "-> 2,500달러 = 3,297,500원"
   ]
  },
  {
   "cell_type": "code",
   "execution_count": null,
   "metadata": {},
   "outputs": [],
   "source": []
  },
  {
   "cell_type": "markdown",
   "metadata": {},
   "source": [
    "### 6. Dt_Customer(고객이 회사에 등록한 날짜)  -> Period (가입 기간)\n",
    "\n",
    "https://songseungwon.tistory.com/60"
   ]
  },
  {
   "cell_type": "code",
   "execution_count": 83,
   "metadata": {},
   "outputs": [
    {
     "data": {
      "text/plain": [
       "0      2012-09-04\n",
       "1      2014-03-08\n",
       "2      2013-08-21\n",
       "3      2014-02-10\n",
       "4      2014-01-19\n",
       "          ...    \n",
       "2235   2013-06-13\n",
       "2236   2014-06-10\n",
       "2237   2014-01-25\n",
       "2238   2014-01-24\n",
       "2239   2012-10-15\n",
       "Name: Time, Length: 2216, dtype: datetime64[ns]"
      ]
     },
     "execution_count": 83,
     "metadata": {},
     "output_type": "execute_result"
    }
   ],
   "source": [
    "customer_df['Time'] = pd.to_datetime(customer_df.Dt_Customer, format='%d-%m-%Y')\n",
    "customer_df['Time']"
   ]
  },
  {
   "cell_type": "code",
   "execution_count": 85,
   "metadata": {},
   "outputs": [
    {
     "data": {
      "text/plain": [
       "0       2012\n",
       "1       2014\n",
       "2       2013\n",
       "3       2014\n",
       "4       2014\n",
       "        ... \n",
       "2235    2013\n",
       "2236    2014\n",
       "2237    2014\n",
       "2238    2014\n",
       "2239    2012\n",
       "Name: Dt_year, Length: 2216, dtype: int64"
      ]
     },
     "execution_count": 85,
     "metadata": {},
     "output_type": "execute_result"
    }
   ],
   "source": [
    "customer_df['Dt_year'] = customer_df['Time'].dt.year\n",
    "customer_df['Dt_year']"
   ]
  },
  {
   "cell_type": "code",
   "execution_count": 111,
   "metadata": {},
   "outputs": [
    {
     "data": {
      "text/plain": [
       "1255   2012-07-30\n",
       "1363   2012-07-31\n",
       "976    2012-08-01\n",
       "724    2012-08-01\n",
       "2194   2012-08-01\n",
       "          ...    \n",
       "796    2014-06-28\n",
       "45     2014-06-28\n",
       "1812   2014-06-28\n",
       "989    2014-06-29\n",
       "200    2014-06-29\n",
       "Name: Time, Length: 2216, dtype: datetime64[ns]"
      ]
     },
     "execution_count": 111,
     "metadata": {},
     "output_type": "execute_result"
    }
   ],
   "source": [
    "customer_df['Time'].sort_values()"
   ]
  },
  {
   "cell_type": "code",
   "execution_count": 113,
   "metadata": {},
   "outputs": [],
   "source": [
    "import datetime"
   ]
  },
  {
   "cell_type": "code",
   "execution_count": 115,
   "metadata": {},
   "outputs": [
    {
     "data": {
      "text/plain": [
       "0      3603 days\n",
       "1      3053 days\n",
       "2      3252 days\n",
       "3      3079 days\n",
       "4      3101 days\n",
       "          ...   \n",
       "2235   3321 days\n",
       "2236   2959 days\n",
       "2237   3095 days\n",
       "2238   3096 days\n",
       "2239   3562 days\n",
       "Name: Time, Length: 2216, dtype: timedelta64[ns]"
      ]
     },
     "execution_count": 115,
     "metadata": {},
     "output_type": "execute_result"
    }
   ],
   "source": [
    "period = datetime.datetime(2022,7,17) - customer_df['Time']\n",
    "period"
   ]
  },
  {
   "cell_type": "code",
   "execution_count": 116,
   "metadata": {},
   "outputs": [
    {
     "data": {
      "text/plain": [
       "0       3603\n",
       "1       3053\n",
       "2       3252\n",
       "3       3079\n",
       "4       3101\n",
       "        ... \n",
       "2235    3321\n",
       "2236    2959\n",
       "2237    3095\n",
       "2238    3096\n",
       "2239    3562\n",
       "Name: Period, Length: 2216, dtype: int64"
      ]
     },
     "execution_count": 116,
     "metadata": {},
     "output_type": "execute_result"
    }
   ],
   "source": [
    "customer_df['Period'] = period.dt.days\n",
    "customer_df['Period']"
   ]
  },
  {
   "cell_type": "code",
   "execution_count": null,
   "metadata": {},
   "outputs": [],
   "source": []
  },
  {
   "cell_type": "markdown",
   "metadata": {},
   "source": [
    "### 7. Education (학력) -> "
   ]
  },
  {
   "cell_type": "code",
   "execution_count": 110,
   "metadata": {},
   "outputs": [
    {
     "data": {
      "text/plain": [
       "<AxesSubplot:xlabel='Education', ylabel='count'>"
      ]
     },
     "execution_count": 110,
     "metadata": {},
     "output_type": "execute_result"
    },
    {
     "data": {
      "image/png": "[encoded data removed]",
      "text/plain": [
       "<Figure size 432x288 with 1 Axes>"
      ]
     },
     "metadata": {
      "needs_background": "light"
     },
     "output_type": "display_data"
    }
   ],
   "source": [
    "sns.countplot(customer_df['Education'])"
   ]
  },
  {
   "cell_type": "code",
   "execution_count": null,
   "metadata": {},
   "outputs": [],
   "source": [
    "- Graduation\n",
    "- PhD (박사)\n",
    "- Master Education\n",
    "- Basic\n",
    "- 2n Cycle"
   ]
  },
  {
   "cell_type": "code",
   "execution_count": null,
   "metadata": {},
   "outputs": [],
   "source": []
  },
  {
   "cell_type": "markdown",
   "metadata": {},
   "source": [
    "======================================================================================================================="
   ]
  },
  {
   "cell_type": "markdown",
   "metadata": {},
   "source": [
    "## 3. 변수 간 상관관계"
   ]
  },
  {
   "cell_type": "code",
   "execution_count": 87,
   "metadata": {},
   "outputs": [
    {
     "data": {
      "text/html": [
       "<div>\n",
       "<style scoped>\n",
       "    .dataframe tbody tr th:only-of-type {\n",
       "        vertical-align: middle;\n",
       "    }\n",
       "\n",
       "    .dataframe tbody tr th {\n",
       "        vertical-align: top;\n",
       "    }\n",
       "\n",
       "    .dataframe thead th {\n",
       "        text-align: right;\n",
       "    }\n",
       "</style>\n",
       "<table border=\"1\" class=\"dataframe\">\n",
       "  <thead>\n",
       "    <tr style=\"text-align: right;\">\n",
       "      <th></th>\n",
       "      <th>ID</th>\n",
       "      <th>Year_Birth</th>\n",
       "      <th>Education</th>\n",
       "      <th>Marital_Status</th>\n",
       "      <th>Income</th>\n",
       "      <th>Kidhome</th>\n",
       "      <th>Teenhome</th>\n",
       "      <th>Dt_Customer</th>\n",
       "      <th>Recency</th>\n",
       "      <th>MntWines</th>\n",
       "      <th>...</th>\n",
       "      <th>AcceptedCmp1</th>\n",
       "      <th>AcceptedCmp2</th>\n",
       "      <th>Complain</th>\n",
       "      <th>Z_CostContact</th>\n",
       "      <th>Z_Revenue</th>\n",
       "      <th>Response</th>\n",
       "      <th>Expenditure</th>\n",
       "      <th>NumChildren</th>\n",
       "      <th>Time</th>\n",
       "      <th>Dt_year</th>\n",
       "    </tr>\n",
       "  </thead>\n",
       "  <tbody>\n",
       "    <tr>\n",
       "      <th>0</th>\n",
       "      <td>5524</td>\n",
       "      <td>1957</td>\n",
       "      <td>Graduation</td>\n",
       "      <td>Single</td>\n",
       "      <td>58138.0</td>\n",
       "      <td>0</td>\n",
       "      <td>0</td>\n",
       "      <td>04-09-2012</td>\n",
       "      <td>58</td>\n",
       "      <td>635</td>\n",
       "      <td>...</td>\n",
       "      <td>0</td>\n",
       "      <td>0</td>\n",
       "      <td>0</td>\n",
       "      <td>3</td>\n",
       "      <td>11</td>\n",
       "      <td>1</td>\n",
       "      <td>1617</td>\n",
       "      <td>0</td>\n",
       "      <td>2012-09-04</td>\n",
       "      <td>2012</td>\n",
       "    </tr>\n",
       "    <tr>\n",
       "      <th>1</th>\n",
       "      <td>2174</td>\n",
       "      <td>1954</td>\n",
       "      <td>Graduation</td>\n",
       "      <td>Single</td>\n",
       "      <td>46344.0</td>\n",
       "      <td>1</td>\n",
       "      <td>1</td>\n",
       "      <td>08-03-2014</td>\n",
       "      <td>38</td>\n",
       "      <td>11</td>\n",
       "      <td>...</td>\n",
       "      <td>0</td>\n",
       "      <td>0</td>\n",
       "      <td>0</td>\n",
       "      <td>3</td>\n",
       "      <td>11</td>\n",
       "      <td>0</td>\n",
       "      <td>27</td>\n",
       "      <td>2</td>\n",
       "      <td>2014-03-08</td>\n",
       "      <td>2014</td>\n",
       "    </tr>\n",
       "    <tr>\n",
       "      <th>2</th>\n",
       "      <td>4141</td>\n",
       "      <td>1965</td>\n",
       "      <td>Graduation</td>\n",
       "      <td>Together</td>\n",
       "      <td>71613.0</td>\n",
       "      <td>0</td>\n",
       "      <td>0</td>\n",
       "      <td>21-08-2013</td>\n",
       "      <td>26</td>\n",
       "      <td>426</td>\n",
       "      <td>...</td>\n",
       "      <td>0</td>\n",
       "      <td>0</td>\n",
       "      <td>0</td>\n",
       "      <td>3</td>\n",
       "      <td>11</td>\n",
       "      <td>0</td>\n",
       "      <td>776</td>\n",
       "      <td>0</td>\n",
       "      <td>2013-08-21</td>\n",
       "      <td>2013</td>\n",
       "    </tr>\n",
       "    <tr>\n",
       "      <th>3</th>\n",
       "      <td>6182</td>\n",
       "      <td>1984</td>\n",
       "      <td>Graduation</td>\n",
       "      <td>Together</td>\n",
       "      <td>26646.0</td>\n",
       "      <td>1</td>\n",
       "      <td>0</td>\n",
       "      <td>10-02-2014</td>\n",
       "      <td>26</td>\n",
       "      <td>11</td>\n",
       "      <td>...</td>\n",
       "      <td>0</td>\n",
       "      <td>0</td>\n",
       "      <td>0</td>\n",
       "      <td>3</td>\n",
       "      <td>11</td>\n",
       "      <td>0</td>\n",
       "      <td>53</td>\n",
       "      <td>1</td>\n",
       "      <td>2014-02-10</td>\n",
       "      <td>2014</td>\n",
       "    </tr>\n",
       "    <tr>\n",
       "      <th>4</th>\n",
       "      <td>5324</td>\n",
       "      <td>1981</td>\n",
       "      <td>PhD</td>\n",
       "      <td>Married</td>\n",
       "      <td>58293.0</td>\n",
       "      <td>1</td>\n",
       "      <td>0</td>\n",
       "      <td>19-01-2014</td>\n",
       "      <td>94</td>\n",
       "      <td>173</td>\n",
       "      <td>...</td>\n",
       "      <td>0</td>\n",
       "      <td>0</td>\n",
       "      <td>0</td>\n",
       "      <td>3</td>\n",
       "      <td>11</td>\n",
       "      <td>0</td>\n",
       "      <td>422</td>\n",
       "      <td>1</td>\n",
       "      <td>2014-01-19</td>\n",
       "      <td>2014</td>\n",
       "    </tr>\n",
       "  </tbody>\n",
       "</table>\n",
       "<p>5 rows × 33 columns</p>\n",
       "</div>"
      ],
      "text/plain": [
       "     ID  Year_Birth   Education Marital_Status   Income  Kidhome  Teenhome  \\\n",
       "0  5524        1957  Graduation         Single  58138.0        0         0   \n",
       "1  2174        1954  Graduation         Single  46344.0        1         1   \n",
       "2  4141        1965  Graduation       Together  71613.0        0         0   \n",
       "3  6182        1984  Graduation       Together  26646.0        1         0   \n",
       "4  5324        1981         PhD        Married  58293.0        1         0   \n",
       "\n",
       "  Dt_Customer  Recency  MntWines  ...  AcceptedCmp1  AcceptedCmp2  Complain  \\\n",
       "0  04-09-2012       58       635  ...             0             0         0   \n",
       "1  08-03-2014       38        11  ...             0             0         0   \n",
       "2  21-08-2013       26       426  ...             0             0         0   \n",
       "3  10-02-2014       26        11  ...             0             0         0   \n",
       "4  19-01-2014       94       173  ...             0             0         0   \n",
       "\n",
       "   Z_CostContact  Z_Revenue  Response  Expenditure  NumChildren       Time  \\\n",
       "0              3         11         1         1617            0 2012-09-04   \n",
       "1              3         11         0           27            2 2014-03-08   \n",
       "2              3         11         0          776            0 2013-08-21   \n",
       "3              3         11         0           53            1 2014-02-10   \n",
       "4              3         11         0          422            1 2014-01-19   \n",
       "\n",
       "   Dt_year  \n",
       "0     2012  \n",
       "1     2014  \n",
       "2     2013  \n",
       "3     2014  \n",
       "4     2014  \n",
       "\n",
       "[5 rows x 33 columns]"
      ]
     },
     "execution_count": 87,
     "metadata": {},
     "output_type": "execute_result"
    }
   ],
   "source": [
    "customer_df.head()"
   ]
  },
  {
   "cell_type": "code",
   "execution_count": 88,
   "metadata": {},
   "outputs": [
    {
     "data": {
      "text/plain": [
       "Index(['ID', 'Year_Birth', 'Education', 'Marital_Status', 'Income', 'Kidhome',\n",
       "       'Teenhome', 'Dt_Customer', 'Recency', 'MntWines', 'MntFruits',\n",
       "       'MntMeatProducts', 'MntFishProducts', 'MntSweetProducts',\n",
       "       'MntGoldProds', 'NumDealsPurchases', 'NumWebPurchases',\n",
       "       'NumCatalogPurchases', 'NumStorePurchases', 'NumWebVisitsMonth',\n",
       "       'AcceptedCmp3', 'AcceptedCmp4', 'AcceptedCmp5', 'AcceptedCmp1',\n",
       "       'AcceptedCmp2', 'Complain', 'Z_CostContact', 'Z_Revenue', 'Response',\n",
       "       'Expenditure', 'NumChildren', 'Time', 'Dt_year'],\n",
       "      dtype='object')"
      ]
     },
     "execution_count": 88,
     "metadata": {},
     "output_type": "execute_result"
    }
   ],
   "source": [
    "customer_df.columns"
   ]
  },
  {
   "cell_type": "code",
   "execution_count": 90,
   "metadata": {},
   "outputs": [],
   "source": [
    "train_df = customer_df.drop(['ID', 'Year_Birth', 'Dt_Customer', 'Z_CostContact', 'Z_Revenue', 'Time'], axis=1)"
   ]
  },
  {
   "cell_type": "code",
   "execution_count": 92,
   "metadata": {},
   "outputs": [
    {
     "data": {
      "text/plain": [
       "Index(['Education', 'Marital_Status', 'Income', 'Kidhome', 'Teenhome',\n",
       "       'Recency', 'MntWines', 'MntFruits', 'MntMeatProducts',\n",
       "       'MntFishProducts', 'MntSweetProducts', 'MntGoldProds',\n",
       "       'NumDealsPurchases', 'NumWebPurchases', 'NumCatalogPurchases',\n",
       "       'NumStorePurchases', 'NumWebVisitsMonth', 'AcceptedCmp3',\n",
       "       'AcceptedCmp4', 'AcceptedCmp5', 'AcceptedCmp1', 'AcceptedCmp2',\n",
       "       'Complain', 'Response', 'Expenditure', 'NumChildren', 'Dt_year'],\n",
       "      dtype='object')"
      ]
     },
     "execution_count": 92,
     "metadata": {},
     "output_type": "execute_result"
    }
   ],
   "source": [
    "train_df.columns"
   ]
  },
  {
   "cell_type": "code",
   "execution_count": 93,
   "metadata": {},
   "outputs": [
    {
     "data": {
      "text/html": [
       "<div>\n",
       "<style scoped>\n",
       "    .dataframe tbody tr th:only-of-type {\n",
       "        vertical-align: middle;\n",
       "    }\n",
       "\n",
       "    .dataframe tbody tr th {\n",
       "        vertical-align: top;\n",
       "    }\n",
       "\n",
       "    .dataframe thead th {\n",
       "        text-align: right;\n",
       "    }\n",
       "</style>\n",
       "<table border=\"1\" class=\"dataframe\">\n",
       "  <thead>\n",
       "    <tr style=\"text-align: right;\">\n",
       "      <th></th>\n",
       "      <th>Income</th>\n",
       "      <th>Kidhome</th>\n",
       "      <th>Teenhome</th>\n",
       "      <th>Recency</th>\n",
       "      <th>MntWines</th>\n",
       "      <th>MntFruits</th>\n",
       "      <th>MntMeatProducts</th>\n",
       "      <th>MntFishProducts</th>\n",
       "      <th>MntSweetProducts</th>\n",
       "      <th>MntGoldProds</th>\n",
       "      <th>...</th>\n",
       "      <th>AcceptedCmp3</th>\n",
       "      <th>AcceptedCmp4</th>\n",
       "      <th>AcceptedCmp5</th>\n",
       "      <th>AcceptedCmp1</th>\n",
       "      <th>AcceptedCmp2</th>\n",
       "      <th>Complain</th>\n",
       "      <th>Response</th>\n",
       "      <th>Expenditure</th>\n",
       "      <th>NumChildren</th>\n",
       "      <th>Dt_year</th>\n",
       "    </tr>\n",
       "  </thead>\n",
       "  <tbody>\n",
       "    <tr>\n",
       "      <th>Income</th>\n",
       "      <td>1.000000</td>\n",
       "      <td>-0.428669</td>\n",
       "      <td>0.019133</td>\n",
       "      <td>-0.003970</td>\n",
       "      <td>0.578650</td>\n",
       "      <td>0.430842</td>\n",
       "      <td>0.584633</td>\n",
       "      <td>0.438871</td>\n",
       "      <td>0.440744</td>\n",
       "      <td>0.325916</td>\n",
       "      <td>...</td>\n",
       "      <td>-0.016174</td>\n",
       "      <td>0.184400</td>\n",
       "      <td>0.335943</td>\n",
       "      <td>0.276820</td>\n",
       "      <td>0.087545</td>\n",
       "      <td>-0.027225</td>\n",
       "      <td>0.133047</td>\n",
       "      <td>0.667576</td>\n",
       "      <td>-0.293352</td>\n",
       "      <td>0.022451</td>\n",
       "    </tr>\n",
       "    <tr>\n",
       "      <th>Kidhome</th>\n",
       "      <td>-0.428669</td>\n",
       "      <td>1.000000</td>\n",
       "      <td>-0.039869</td>\n",
       "      <td>0.011492</td>\n",
       "      <td>-0.497336</td>\n",
       "      <td>-0.373396</td>\n",
       "      <td>-0.439261</td>\n",
       "      <td>-0.388884</td>\n",
       "      <td>-0.378026</td>\n",
       "      <td>-0.355029</td>\n",
       "      <td>...</td>\n",
       "      <td>0.016066</td>\n",
       "      <td>-0.162026</td>\n",
       "      <td>-0.205305</td>\n",
       "      <td>-0.174163</td>\n",
       "      <td>-0.081868</td>\n",
       "      <td>0.040978</td>\n",
       "      <td>-0.077909</td>\n",
       "      <td>-0.557899</td>\n",
       "      <td>0.687794</td>\n",
       "      <td>0.052943</td>\n",
       "    </tr>\n",
       "    <tr>\n",
       "      <th>Teenhome</th>\n",
       "      <td>0.019133</td>\n",
       "      <td>-0.039869</td>\n",
       "      <td>1.000000</td>\n",
       "      <td>0.013838</td>\n",
       "      <td>0.003747</td>\n",
       "      <td>-0.176558</td>\n",
       "      <td>-0.261122</td>\n",
       "      <td>-0.205242</td>\n",
       "      <td>-0.163056</td>\n",
       "      <td>-0.019887</td>\n",
       "      <td>...</td>\n",
       "      <td>-0.042522</td>\n",
       "      <td>0.038376</td>\n",
       "      <td>-0.190791</td>\n",
       "      <td>-0.144855</td>\n",
       "      <td>-0.015521</td>\n",
       "      <td>0.003307</td>\n",
       "      <td>-0.153901</td>\n",
       "      <td>-0.138153</td>\n",
       "      <td>0.697907</td>\n",
       "      <td>-0.009488</td>\n",
       "    </tr>\n",
       "    <tr>\n",
       "      <th>Recency</th>\n",
       "      <td>-0.003970</td>\n",
       "      <td>0.011492</td>\n",
       "      <td>0.013838</td>\n",
       "      <td>1.000000</td>\n",
       "      <td>0.015721</td>\n",
       "      <td>-0.005844</td>\n",
       "      <td>0.022518</td>\n",
       "      <td>0.000551</td>\n",
       "      <td>0.025110</td>\n",
       "      <td>0.017663</td>\n",
       "      <td>...</td>\n",
       "      <td>-0.032257</td>\n",
       "      <td>0.017566</td>\n",
       "      <td>-0.000482</td>\n",
       "      <td>-0.021061</td>\n",
       "      <td>-0.001400</td>\n",
       "      <td>0.013637</td>\n",
       "      <td>-0.199766</td>\n",
       "      <td>0.020066</td>\n",
       "      <td>0.018290</td>\n",
       "      <td>-0.027064</td>\n",
       "    </tr>\n",
       "    <tr>\n",
       "      <th>MntWines</th>\n",
       "      <td>0.578650</td>\n",
       "      <td>-0.497336</td>\n",
       "      <td>0.003747</td>\n",
       "      <td>0.015721</td>\n",
       "      <td>1.000000</td>\n",
       "      <td>0.387024</td>\n",
       "      <td>0.568860</td>\n",
       "      <td>0.397721</td>\n",
       "      <td>0.390326</td>\n",
       "      <td>0.392731</td>\n",
       "      <td>...</td>\n",
       "      <td>0.061463</td>\n",
       "      <td>0.373143</td>\n",
       "      <td>0.473550</td>\n",
       "      <td>0.351417</td>\n",
       "      <td>0.206185</td>\n",
       "      <td>-0.039470</td>\n",
       "      <td>0.246299</td>\n",
       "      <td>0.893136</td>\n",
       "      <td>-0.353748</td>\n",
       "      <td>-0.154991</td>\n",
       "    </tr>\n",
       "    <tr>\n",
       "      <th>MntFruits</th>\n",
       "      <td>0.430842</td>\n",
       "      <td>-0.373396</td>\n",
       "      <td>-0.176558</td>\n",
       "      <td>-0.005844</td>\n",
       "      <td>0.387024</td>\n",
       "      <td>1.000000</td>\n",
       "      <td>0.547822</td>\n",
       "      <td>0.593431</td>\n",
       "      <td>0.571606</td>\n",
       "      <td>0.396487</td>\n",
       "      <td>...</td>\n",
       "      <td>0.014424</td>\n",
       "      <td>0.006396</td>\n",
       "      <td>0.212871</td>\n",
       "      <td>0.191816</td>\n",
       "      <td>-0.009980</td>\n",
       "      <td>-0.005324</td>\n",
       "      <td>0.122443</td>\n",
       "      <td>0.613249</td>\n",
       "      <td>-0.395901</td>\n",
       "      <td>-0.054961</td>\n",
       "    </tr>\n",
       "    <tr>\n",
       "      <th>MntMeatProducts</th>\n",
       "      <td>0.584633</td>\n",
       "      <td>-0.439261</td>\n",
       "      <td>-0.261122</td>\n",
       "      <td>0.022518</td>\n",
       "      <td>0.568860</td>\n",
       "      <td>0.547822</td>\n",
       "      <td>1.000000</td>\n",
       "      <td>0.573574</td>\n",
       "      <td>0.535136</td>\n",
       "      <td>0.359446</td>\n",
       "      <td>...</td>\n",
       "      <td>0.018438</td>\n",
       "      <td>0.091618</td>\n",
       "      <td>0.376867</td>\n",
       "      <td>0.313076</td>\n",
       "      <td>0.043521</td>\n",
       "      <td>-0.023782</td>\n",
       "      <td>0.237746</td>\n",
       "      <td>0.845884</td>\n",
       "      <td>-0.504545</td>\n",
       "      <td>-0.078562</td>\n",
       "    </tr>\n",
       "    <tr>\n",
       "      <th>MntFishProducts</th>\n",
       "      <td>0.438871</td>\n",
       "      <td>-0.388884</td>\n",
       "      <td>-0.205242</td>\n",
       "      <td>0.000551</td>\n",
       "      <td>0.397721</td>\n",
       "      <td>0.593431</td>\n",
       "      <td>0.573574</td>\n",
       "      <td>1.000000</td>\n",
       "      <td>0.583867</td>\n",
       "      <td>0.427142</td>\n",
       "      <td>...</td>\n",
       "      <td>-0.000219</td>\n",
       "      <td>0.016105</td>\n",
       "      <td>0.196277</td>\n",
       "      <td>0.261608</td>\n",
       "      <td>0.002345</td>\n",
       "      <td>-0.021220</td>\n",
       "      <td>0.108145</td>\n",
       "      <td>0.642371</td>\n",
       "      <td>-0.427841</td>\n",
       "      <td>-0.067327</td>\n",
       "    </tr>\n",
       "    <tr>\n",
       "      <th>MntSweetProducts</th>\n",
       "      <td>0.440744</td>\n",
       "      <td>-0.378026</td>\n",
       "      <td>-0.163056</td>\n",
       "      <td>0.025110</td>\n",
       "      <td>0.390326</td>\n",
       "      <td>0.571606</td>\n",
       "      <td>0.535136</td>\n",
       "      <td>0.583867</td>\n",
       "      <td>1.000000</td>\n",
       "      <td>0.357450</td>\n",
       "      <td>...</td>\n",
       "      <td>0.001780</td>\n",
       "      <td>0.029313</td>\n",
       "      <td>0.259230</td>\n",
       "      <td>0.245102</td>\n",
       "      <td>0.010188</td>\n",
       "      <td>-0.022641</td>\n",
       "      <td>0.116170</td>\n",
       "      <td>0.607062</td>\n",
       "      <td>-0.389411</td>\n",
       "      <td>-0.073794</td>\n",
       "    </tr>\n",
       "    <tr>\n",
       "      <th>MntGoldProds</th>\n",
       "      <td>0.325916</td>\n",
       "      <td>-0.355029</td>\n",
       "      <td>-0.019887</td>\n",
       "      <td>0.017663</td>\n",
       "      <td>0.392731</td>\n",
       "      <td>0.396487</td>\n",
       "      <td>0.359446</td>\n",
       "      <td>0.427142</td>\n",
       "      <td>0.357450</td>\n",
       "      <td>1.000000</td>\n",
       "      <td>...</td>\n",
       "      <td>0.124958</td>\n",
       "      <td>0.024015</td>\n",
       "      <td>0.181397</td>\n",
       "      <td>0.170132</td>\n",
       "      <td>0.050734</td>\n",
       "      <td>-0.031133</td>\n",
       "      <td>0.140332</td>\n",
       "      <td>0.528708</td>\n",
       "      <td>-0.268918</td>\n",
       "      <td>-0.143728</td>\n",
       "    </tr>\n",
       "    <tr>\n",
       "      <th>NumDealsPurchases</th>\n",
       "      <td>-0.083101</td>\n",
       "      <td>0.216913</td>\n",
       "      <td>0.386246</td>\n",
       "      <td>0.002115</td>\n",
       "      <td>0.008886</td>\n",
       "      <td>-0.134512</td>\n",
       "      <td>-0.121308</td>\n",
       "      <td>-0.143241</td>\n",
       "      <td>-0.121432</td>\n",
       "      <td>0.051905</td>\n",
       "      <td>...</td>\n",
       "      <td>-0.023135</td>\n",
       "      <td>0.016077</td>\n",
       "      <td>-0.184253</td>\n",
       "      <td>-0.127374</td>\n",
       "      <td>-0.037981</td>\n",
       "      <td>0.000497</td>\n",
       "      <td>0.003451</td>\n",
       "      <td>-0.065854</td>\n",
       "      <td>0.436076</td>\n",
       "      <td>-0.185314</td>\n",
       "    </tr>\n",
       "    <tr>\n",
       "      <th>NumWebPurchases</th>\n",
       "      <td>0.387878</td>\n",
       "      <td>-0.371977</td>\n",
       "      <td>0.162077</td>\n",
       "      <td>-0.005641</td>\n",
       "      <td>0.553786</td>\n",
       "      <td>0.302039</td>\n",
       "      <td>0.307090</td>\n",
       "      <td>0.299688</td>\n",
       "      <td>0.333937</td>\n",
       "      <td>0.407066</td>\n",
       "      <td>...</td>\n",
       "      <td>0.042958</td>\n",
       "      <td>0.162932</td>\n",
       "      <td>0.141189</td>\n",
       "      <td>0.159292</td>\n",
       "      <td>0.034829</td>\n",
       "      <td>-0.016642</td>\n",
       "      <td>0.151431</td>\n",
       "      <td>0.528973</td>\n",
       "      <td>-0.148871</td>\n",
       "      <td>-0.169698</td>\n",
       "    </tr>\n",
       "    <tr>\n",
       "      <th>NumCatalogPurchases</th>\n",
       "      <td>0.589162</td>\n",
       "      <td>-0.504501</td>\n",
       "      <td>-0.112692</td>\n",
       "      <td>0.024081</td>\n",
       "      <td>0.634753</td>\n",
       "      <td>0.486263</td>\n",
       "      <td>0.734127</td>\n",
       "      <td>0.532757</td>\n",
       "      <td>0.495136</td>\n",
       "      <td>0.442428</td>\n",
       "      <td>...</td>\n",
       "      <td>0.104345</td>\n",
       "      <td>0.140182</td>\n",
       "      <td>0.322471</td>\n",
       "      <td>0.309026</td>\n",
       "      <td>0.099915</td>\n",
       "      <td>-0.020839</td>\n",
       "      <td>0.219914</td>\n",
       "      <td>0.780482</td>\n",
       "      <td>-0.443474</td>\n",
       "      <td>-0.086008</td>\n",
       "    </tr>\n",
       "    <tr>\n",
       "      <th>NumStorePurchases</th>\n",
       "      <td>0.529362</td>\n",
       "      <td>-0.501349</td>\n",
       "      <td>0.049737</td>\n",
       "      <td>-0.000434</td>\n",
       "      <td>0.640012</td>\n",
       "      <td>0.458491</td>\n",
       "      <td>0.486006</td>\n",
       "      <td>0.457745</td>\n",
       "      <td>0.455225</td>\n",
       "      <td>0.389180</td>\n",
       "      <td>...</td>\n",
       "      <td>-0.068913</td>\n",
       "      <td>0.178020</td>\n",
       "      <td>0.212954</td>\n",
       "      <td>0.178743</td>\n",
       "      <td>0.085271</td>\n",
       "      <td>-0.016941</td>\n",
       "      <td>0.036241</td>\n",
       "      <td>0.675181</td>\n",
       "      <td>-0.323213</td>\n",
       "      <td>-0.097526</td>\n",
       "    </tr>\n",
       "    <tr>\n",
       "      <th>NumWebVisitsMonth</th>\n",
       "      <td>-0.553088</td>\n",
       "      <td>0.447477</td>\n",
       "      <td>0.131240</td>\n",
       "      <td>-0.018564</td>\n",
       "      <td>-0.321978</td>\n",
       "      <td>-0.418729</td>\n",
       "      <td>-0.539484</td>\n",
       "      <td>-0.446423</td>\n",
       "      <td>-0.422371</td>\n",
       "      <td>-0.247691</td>\n",
       "      <td>...</td>\n",
       "      <td>0.061307</td>\n",
       "      <td>-0.028666</td>\n",
       "      <td>-0.277883</td>\n",
       "      <td>-0.194773</td>\n",
       "      <td>-0.007362</td>\n",
       "      <td>0.019785</td>\n",
       "      <td>-0.002209</td>\n",
       "      <td>-0.499082</td>\n",
       "      <td>0.416076</td>\n",
       "      <td>-0.253336</td>\n",
       "    </tr>\n",
       "    <tr>\n",
       "      <th>AcceptedCmp3</th>\n",
       "      <td>-0.016174</td>\n",
       "      <td>0.016066</td>\n",
       "      <td>-0.042522</td>\n",
       "      <td>-0.032257</td>\n",
       "      <td>0.061463</td>\n",
       "      <td>0.014424</td>\n",
       "      <td>0.018438</td>\n",
       "      <td>-0.000219</td>\n",
       "      <td>0.001780</td>\n",
       "      <td>0.124958</td>\n",
       "      <td>...</td>\n",
       "      <td>1.000000</td>\n",
       "      <td>-0.079659</td>\n",
       "      <td>0.080248</td>\n",
       "      <td>0.095683</td>\n",
       "      <td>0.071702</td>\n",
       "      <td>0.008124</td>\n",
       "      <td>0.254005</td>\n",
       "      <td>0.053041</td>\n",
       "      <td>-0.019376</td>\n",
       "      <td>0.011011</td>\n",
       "    </tr>\n",
       "    <tr>\n",
       "      <th>AcceptedCmp4</th>\n",
       "      <td>0.184400</td>\n",
       "      <td>-0.162026</td>\n",
       "      <td>0.038376</td>\n",
       "      <td>0.017566</td>\n",
       "      <td>0.373143</td>\n",
       "      <td>0.006396</td>\n",
       "      <td>0.091618</td>\n",
       "      <td>0.016105</td>\n",
       "      <td>0.029313</td>\n",
       "      <td>0.024015</td>\n",
       "      <td>...</td>\n",
       "      <td>-0.079659</td>\n",
       "      <td>1.000000</td>\n",
       "      <td>0.311314</td>\n",
       "      <td>0.242782</td>\n",
       "      <td>0.295050</td>\n",
       "      <td>-0.027652</td>\n",
       "      <td>0.180205</td>\n",
       "      <td>0.248805</td>\n",
       "      <td>-0.088254</td>\n",
       "      <td>-0.009210</td>\n",
       "    </tr>\n",
       "    <tr>\n",
       "      <th>AcceptedCmp5</th>\n",
       "      <td>0.335943</td>\n",
       "      <td>-0.205305</td>\n",
       "      <td>-0.190791</td>\n",
       "      <td>-0.000482</td>\n",
       "      <td>0.473550</td>\n",
       "      <td>0.212871</td>\n",
       "      <td>0.376867</td>\n",
       "      <td>0.196277</td>\n",
       "      <td>0.259230</td>\n",
       "      <td>0.181397</td>\n",
       "      <td>...</td>\n",
       "      <td>0.080248</td>\n",
       "      <td>0.311314</td>\n",
       "      <td>1.000000</td>\n",
       "      <td>0.407878</td>\n",
       "      <td>0.222121</td>\n",
       "      <td>-0.009576</td>\n",
       "      <td>0.323374</td>\n",
       "      <td>0.470278</td>\n",
       "      <td>-0.285761</td>\n",
       "      <td>0.021230</td>\n",
       "    </tr>\n",
       "    <tr>\n",
       "      <th>AcceptedCmp1</th>\n",
       "      <td>0.276820</td>\n",
       "      <td>-0.174163</td>\n",
       "      <td>-0.144855</td>\n",
       "      <td>-0.021061</td>\n",
       "      <td>0.351417</td>\n",
       "      <td>0.191816</td>\n",
       "      <td>0.313076</td>\n",
       "      <td>0.261608</td>\n",
       "      <td>0.245102</td>\n",
       "      <td>0.170132</td>\n",
       "      <td>...</td>\n",
       "      <td>0.095683</td>\n",
       "      <td>0.242782</td>\n",
       "      <td>0.407878</td>\n",
       "      <td>1.000000</td>\n",
       "      <td>0.176637</td>\n",
       "      <td>-0.025594</td>\n",
       "      <td>0.297345</td>\n",
       "      <td>0.380825</td>\n",
       "      <td>-0.230068</td>\n",
       "      <td>0.037536</td>\n",
       "    </tr>\n",
       "    <tr>\n",
       "      <th>AcceptedCmp2</th>\n",
       "      <td>0.087545</td>\n",
       "      <td>-0.081868</td>\n",
       "      <td>-0.015521</td>\n",
       "      <td>-0.001400</td>\n",
       "      <td>0.206185</td>\n",
       "      <td>-0.009980</td>\n",
       "      <td>0.043521</td>\n",
       "      <td>0.002345</td>\n",
       "      <td>0.010188</td>\n",
       "      <td>0.050734</td>\n",
       "      <td>...</td>\n",
       "      <td>0.071702</td>\n",
       "      <td>0.295050</td>\n",
       "      <td>0.222121</td>\n",
       "      <td>0.176637</td>\n",
       "      <td>1.000000</td>\n",
       "      <td>-0.011459</td>\n",
       "      <td>0.169294</td>\n",
       "      <td>0.136161</td>\n",
       "      <td>-0.069955</td>\n",
       "      <td>0.000838</td>\n",
       "    </tr>\n",
       "    <tr>\n",
       "      <th>Complain</th>\n",
       "      <td>-0.027225</td>\n",
       "      <td>0.040978</td>\n",
       "      <td>0.003307</td>\n",
       "      <td>0.013637</td>\n",
       "      <td>-0.039470</td>\n",
       "      <td>-0.005324</td>\n",
       "      <td>-0.023782</td>\n",
       "      <td>-0.021220</td>\n",
       "      <td>-0.022641</td>\n",
       "      <td>-0.031133</td>\n",
       "      <td>...</td>\n",
       "      <td>0.008124</td>\n",
       "      <td>-0.027652</td>\n",
       "      <td>-0.009576</td>\n",
       "      <td>-0.025594</td>\n",
       "      <td>-0.011459</td>\n",
       "      <td>1.000000</td>\n",
       "      <td>-0.002029</td>\n",
       "      <td>-0.037428</td>\n",
       "      <td>0.031774</td>\n",
       "      <td>-0.024442</td>\n",
       "    </tr>\n",
       "    <tr>\n",
       "      <th>Response</th>\n",
       "      <td>0.133047</td>\n",
       "      <td>-0.077909</td>\n",
       "      <td>-0.153901</td>\n",
       "      <td>-0.199766</td>\n",
       "      <td>0.246299</td>\n",
       "      <td>0.122443</td>\n",
       "      <td>0.237746</td>\n",
       "      <td>0.108145</td>\n",
       "      <td>0.116170</td>\n",
       "      <td>0.140332</td>\n",
       "      <td>...</td>\n",
       "      <td>0.254005</td>\n",
       "      <td>0.180205</td>\n",
       "      <td>0.323374</td>\n",
       "      <td>0.297345</td>\n",
       "      <td>0.169294</td>\n",
       "      <td>-0.002029</td>\n",
       "      <td>1.000000</td>\n",
       "      <td>0.264127</td>\n",
       "      <td>-0.167648</td>\n",
       "      <td>-0.172198</td>\n",
       "    </tr>\n",
       "    <tr>\n",
       "      <th>Expenditure</th>\n",
       "      <td>0.667576</td>\n",
       "      <td>-0.557899</td>\n",
       "      <td>-0.138153</td>\n",
       "      <td>0.020066</td>\n",
       "      <td>0.893136</td>\n",
       "      <td>0.613249</td>\n",
       "      <td>0.845884</td>\n",
       "      <td>0.642371</td>\n",
       "      <td>0.607062</td>\n",
       "      <td>0.528708</td>\n",
       "      <td>...</td>\n",
       "      <td>0.053041</td>\n",
       "      <td>0.248805</td>\n",
       "      <td>0.470278</td>\n",
       "      <td>0.380825</td>\n",
       "      <td>0.136161</td>\n",
       "      <td>-0.037428</td>\n",
       "      <td>0.264127</td>\n",
       "      <td>1.000000</td>\n",
       "      <td>-0.500244</td>\n",
       "      <td>-0.143066</td>\n",
       "    </tr>\n",
       "    <tr>\n",
       "      <th>NumChildren</th>\n",
       "      <td>-0.293352</td>\n",
       "      <td>0.687794</td>\n",
       "      <td>0.697907</td>\n",
       "      <td>0.018290</td>\n",
       "      <td>-0.353748</td>\n",
       "      <td>-0.395901</td>\n",
       "      <td>-0.504545</td>\n",
       "      <td>-0.427841</td>\n",
       "      <td>-0.389411</td>\n",
       "      <td>-0.268918</td>\n",
       "      <td>...</td>\n",
       "      <td>-0.019376</td>\n",
       "      <td>-0.088254</td>\n",
       "      <td>-0.285761</td>\n",
       "      <td>-0.230068</td>\n",
       "      <td>-0.069955</td>\n",
       "      <td>0.031774</td>\n",
       "      <td>-0.167648</td>\n",
       "      <td>-0.500244</td>\n",
       "      <td>1.000000</td>\n",
       "      <td>0.031054</td>\n",
       "    </tr>\n",
       "    <tr>\n",
       "      <th>Dt_year</th>\n",
       "      <td>0.022451</td>\n",
       "      <td>0.052943</td>\n",
       "      <td>-0.009488</td>\n",
       "      <td>-0.027064</td>\n",
       "      <td>-0.154991</td>\n",
       "      <td>-0.054961</td>\n",
       "      <td>-0.078562</td>\n",
       "      <td>-0.067327</td>\n",
       "      <td>-0.073794</td>\n",
       "      <td>-0.143728</td>\n",
       "      <td>...</td>\n",
       "      <td>0.011011</td>\n",
       "      <td>-0.009210</td>\n",
       "      <td>0.021230</td>\n",
       "      <td>0.037536</td>\n",
       "      <td>0.000838</td>\n",
       "      <td>-0.024442</td>\n",
       "      <td>-0.172198</td>\n",
       "      <td>-0.143066</td>\n",
       "      <td>0.031054</td>\n",
       "      <td>1.000000</td>\n",
       "    </tr>\n",
       "  </tbody>\n",
       "</table>\n",
       "<p>25 rows × 25 columns</p>\n",
       "</div>"
      ],
      "text/plain": [
       "                       Income   Kidhome  Teenhome   Recency  MntWines  \\\n",
       "Income               1.000000 -0.428669  0.019133 -0.003970  0.578650   \n",
       "Kidhome             -0.428669  1.000000 -0.039869  0.011492 -0.497336   \n",
       "Teenhome             0.019133 -0.039869  1.000000  0.013838  0.003747   \n",
       "Recency             -0.003970  0.011492  0.013838  1.000000  0.015721   \n",
       "MntWines             0.578650 -0.497336  0.003747  0.015721  1.000000   \n",
       "MntFruits            0.430842 -0.373396 -0.176558 -0.005844  0.387024   \n",
       "MntMeatProducts      0.584633 -0.439261 -0.261122  0.022518  0.568860   \n",
       "MntFishProducts      0.438871 -0.388884 -0.205242  0.000551  0.397721   \n",
       "MntSweetProducts     0.440744 -0.378026 -0.163056  0.025110  0.390326   \n",
       "MntGoldProds         0.325916 -0.355029 -0.019887  0.017663  0.392731   \n",
       "NumDealsPurchases   -0.083101  0.216913  0.386246  0.002115  0.008886   \n",
       "NumWebPurchases      0.387878 -0.371977  0.162077 -0.005641  0.553786   \n",
       "NumCatalogPurchases  0.589162 -0.504501 -0.112692  0.024081  0.634753   \n",
       "NumStorePurchases    0.529362 -0.501349  0.049737 -0.000434  0.640012   \n",
       "NumWebVisitsMonth   -0.553088  0.447477  0.131240 -0.018564 -0.321978   \n",
       "AcceptedCmp3        -0.016174  0.016066 -0.042522 -0.032257  0.061463   \n",
       "AcceptedCmp4         0.184400 -0.162026  0.038376  0.017566  0.373143   \n",
       "AcceptedCmp5         0.335943 -0.205305 -0.190791 -0.000482  0.473550   \n",
       "AcceptedCmp1         0.276820 -0.174163 -0.144855 -0.021061  0.351417   \n",
       "AcceptedCmp2         0.087545 -0.081868 -0.015521 -0.001400  0.206185   \n",
       "Complain            -0.027225  0.040978  0.003307  0.013637 -0.039470   \n",
       "Response             0.133047 -0.077909 -0.153901 -0.199766  0.246299   \n",
       "Expenditure          0.667576 -0.557899 -0.138153  0.020066  0.893136   \n",
       "NumChildren         -0.293352  0.687794  0.697907  0.018290 -0.353748   \n",
       "Dt_year              0.022451  0.052943 -0.009488 -0.027064 -0.154991   \n",
       "\n",
       "                     MntFruits  MntMeatProducts  MntFishProducts  \\\n",
       "Income                0.430842         0.584633         0.438871   \n",
       "Kidhome              -0.373396        -0.439261        -0.388884   \n",
       "Teenhome             -0.176558        -0.261122        -0.205242   \n",
       "Recency              -0.005844         0.022518         0.000551   \n",
       "MntWines              0.387024         0.568860         0.397721   \n",
       "MntFruits             1.000000         0.547822         0.593431   \n",
       "MntMeatProducts       0.547822         1.000000         0.573574   \n",
       "MntFishProducts       0.593431         0.573574         1.000000   \n",
       "MntSweetProducts      0.571606         0.535136         0.583867   \n",
       "MntGoldProds          0.396487         0.359446         0.427142   \n",
       "NumDealsPurchases    -0.134512        -0.121308        -0.143241   \n",
       "NumWebPurchases       0.302039         0.307090         0.299688   \n",
       "NumCatalogPurchases   0.486263         0.734127         0.532757   \n",
       "NumStorePurchases     0.458491         0.486006         0.457745   \n",
       "NumWebVisitsMonth    -0.418729        -0.539484        -0.446423   \n",
       "AcceptedCmp3          0.014424         0.018438        -0.000219   \n",
       "AcceptedCmp4          0.006396         0.091618         0.016105   \n",
       "AcceptedCmp5          0.212871         0.376867         0.196277   \n",
       "AcceptedCmp1          0.191816         0.313076         0.261608   \n",
       "AcceptedCmp2         -0.009980         0.043521         0.002345   \n",
       "Complain             -0.005324        -0.023782        -0.021220   \n",
       "Response              0.122443         0.237746         0.108145   \n",
       "Expenditure           0.613249         0.845884         0.642371   \n",
       "NumChildren          -0.395901        -0.504545        -0.427841   \n",
       "Dt_year              -0.054961        -0.078562        -0.067327   \n",
       "\n",
       "                     MntSweetProducts  MntGoldProds  ...  AcceptedCmp3  \\\n",
       "Income                       0.440744      0.325916  ...     -0.016174   \n",
       "Kidhome                     -0.378026     -0.355029  ...      0.016066   \n",
       "Teenhome                    -0.163056     -0.019887  ...     -0.042522   \n",
       "Recency                      0.025110      0.017663  ...     -0.032257   \n",
       "MntWines                     0.390326      0.392731  ...      0.061463   \n",
       "MntFruits                    0.571606      0.396487  ...      0.014424   \n",
       "MntMeatProducts              0.535136      0.359446  ...      0.018438   \n",
       "MntFishProducts              0.583867      0.427142  ...     -0.000219   \n",
       "MntSweetProducts             1.000000      0.357450  ...      0.001780   \n",
       "MntGoldProds                 0.357450      1.000000  ...      0.124958   \n",
       "NumDealsPurchases           -0.121432      0.051905  ...     -0.023135   \n",
       "NumWebPurchases              0.333937      0.407066  ...      0.042958   \n",
       "NumCatalogPurchases          0.495136      0.442428  ...      0.104345   \n",
       "NumStorePurchases            0.455225      0.389180  ...     -0.068913   \n",
       "NumWebVisitsMonth           -0.422371     -0.247691  ...      0.061307   \n",
       "AcceptedCmp3                 0.001780      0.124958  ...      1.000000   \n",
       "AcceptedCmp4                 0.029313      0.024015  ...     -0.079659   \n",
       "AcceptedCmp5                 0.259230      0.181397  ...      0.080248   \n",
       "AcceptedCmp1                 0.245102      0.170132  ...      0.095683   \n",
       "AcceptedCmp2                 0.010188      0.050734  ...      0.071702   \n",
       "Complain                    -0.022641     -0.031133  ...      0.008124   \n",
       "Response                     0.116170      0.140332  ...      0.254005   \n",
       "Expenditure                  0.607062      0.528708  ...      0.053041   \n",
       "NumChildren                 -0.389411     -0.268918  ...     -0.019376   \n",
       "Dt_year                     -0.073794     -0.143728  ...      0.011011   \n",
       "\n",
       "                     AcceptedCmp4  AcceptedCmp5  AcceptedCmp1  AcceptedCmp2  \\\n",
       "Income                   0.184400      0.335943      0.276820      0.087545   \n",
       "Kidhome                 -0.162026     -0.205305     -0.174163     -0.081868   \n",
       "Teenhome                 0.038376     -0.190791     -0.144855     -0.015521   \n",
       "Recency                  0.017566     -0.000482     -0.021061     -0.001400   \n",
       "MntWines                 0.373143      0.473550      0.351417      0.206185   \n",
       "MntFruits                0.006396      0.212871      0.191816     -0.009980   \n",
       "MntMeatProducts          0.091618      0.376867      0.313076      0.043521   \n",
       "MntFishProducts          0.016105      0.196277      0.261608      0.002345   \n",
       "MntSweetProducts         0.029313      0.259230      0.245102      0.010188   \n",
       "MntGoldProds             0.024015      0.181397      0.170132      0.050734   \n",
       "NumDealsPurchases        0.016077     -0.184253     -0.127374     -0.037981   \n",
       "NumWebPurchases          0.162932      0.141189      0.159292      0.034829   \n",
       "NumCatalogPurchases      0.140182      0.322471      0.309026      0.099915   \n",
       "NumStorePurchases        0.178020      0.212954      0.178743      0.085271   \n",
       "NumWebVisitsMonth       -0.028666     -0.277883     -0.194773     -0.007362   \n",
       "AcceptedCmp3            -0.079659      0.080248      0.095683      0.071702   \n",
       "AcceptedCmp4             1.000000      0.311314      0.242782      0.295050   \n",
       "AcceptedCmp5             0.311314      1.000000      0.407878      0.222121   \n",
       "AcceptedCmp1             0.242782      0.407878      1.000000      0.176637   \n",
       "AcceptedCmp2             0.295050      0.222121      0.176637      1.000000   \n",
       "Complain                -0.027652     -0.009576     -0.025594     -0.011459   \n",
       "Response                 0.180205      0.323374      0.297345      0.169294   \n",
       "Expenditure              0.248805      0.470278      0.380825      0.136161   \n",
       "NumChildren             -0.088254     -0.285761     -0.230068     -0.069955   \n",
       "Dt_year                 -0.009210      0.021230      0.037536      0.000838   \n",
       "\n",
       "                     Complain  Response  Expenditure  NumChildren   Dt_year  \n",
       "Income              -0.027225  0.133047     0.667576    -0.293352  0.022451  \n",
       "Kidhome              0.040978 -0.077909    -0.557899     0.687794  0.052943  \n",
       "Teenhome             0.003307 -0.153901    -0.138153     0.697907 -0.009488  \n",
       "Recency              0.013637 -0.199766     0.020066     0.018290 -0.027064  \n",
       "MntWines            -0.039470  0.246299     0.893136    -0.353748 -0.154991  \n",
       "MntFruits           -0.005324  0.122443     0.613249    -0.395901 -0.054961  \n",
       "MntMeatProducts     -0.023782  0.237746     0.845884    -0.504545 -0.078562  \n",
       "MntFishProducts     -0.021220  0.108145     0.642371    -0.427841 -0.067327  \n",
       "MntSweetProducts    -0.022641  0.116170     0.607062    -0.389411 -0.073794  \n",
       "MntGoldProds        -0.031133  0.140332     0.528708    -0.268918 -0.143728  \n",
       "NumDealsPurchases    0.000497  0.003451    -0.065854     0.436076 -0.185314  \n",
       "NumWebPurchases     -0.016642  0.151431     0.528973    -0.148871 -0.169698  \n",
       "NumCatalogPurchases -0.020839  0.219914     0.780482    -0.443474 -0.086008  \n",
       "NumStorePurchases   -0.016941  0.036241     0.675181    -0.323213 -0.097526  \n",
       "NumWebVisitsMonth    0.019785 -0.002209    -0.499082     0.416076 -0.253336  \n",
       "AcceptedCmp3         0.008124  0.254005     0.053041    -0.019376  0.011011  \n",
       "AcceptedCmp4        -0.027652  0.180205     0.248805    -0.088254 -0.009210  \n",
       "AcceptedCmp5        -0.009576  0.323374     0.470278    -0.285761  0.021230  \n",
       "AcceptedCmp1        -0.025594  0.297345     0.380825    -0.230068  0.037536  \n",
       "AcceptedCmp2        -0.011459  0.169294     0.136161    -0.069955  0.000838  \n",
       "Complain             1.000000 -0.002029    -0.037428     0.031774 -0.024442  \n",
       "Response            -0.002029  1.000000     0.264127    -0.167648 -0.172198  \n",
       "Expenditure         -0.037428  0.264127     1.000000    -0.500244 -0.143066  \n",
       "NumChildren          0.031774 -0.167648    -0.500244     1.000000  0.031054  \n",
       "Dt_year             -0.024442 -0.172198    -0.143066     0.031054  1.000000  \n",
       "\n",
       "[25 rows x 25 columns]"
      ]
     },
     "execution_count": 93,
     "metadata": {},
     "output_type": "execute_result"
    }
   ],
   "source": [
    "train_df.corr()"
   ]
  },
  {
   "cell_type": "code",
   "execution_count": 99,
   "metadata": {},
   "outputs": [
    {
     "data": {
      "text/plain": [
       "<AxesSubplot:>"
      ]
     },
     "execution_count": 99,
     "metadata": {},
     "output_type": "execute_result"
    },
    {
     "data": {
      "image/png": "[encoded data removed]",
      "text/plain": [
       "<Figure size 432x288 with 2 Axes>"
      ]
     },
     "metadata": {
      "needs_background": "light"
     },
     "output_type": "display_data"
    }
   ],
   "source": [
    "sns.heatmap(train_df.corr())"
   ]
  },
  {
   "cell_type": "code",
   "execution_count": null,
   "metadata": {},
   "outputs": [],
   "source": []
  }
 ],
 "metadata": {
  "kernelspec": {
   "display_name": "Python 3",
   "language": "python",
   "name": "python3"
  },
  "language_info": {
   "codemirror_mode": {
    "name": "ipython",
    "version": 3
   },
   "file_extension": ".py",
   "mimetype": "text/x-python",
   "name": "python",
   "nbconvert_exporter": "python",
   "pygments_lexer": "ipython3",
   "version": "3.8.5"
  }
 },
 "nbformat": 4,
 "nbformat_minor": 4
}
