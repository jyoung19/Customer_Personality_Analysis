{
 "cells": [
  {
   "cell_type": "markdown",
   "id": "cda66ce4",
   "metadata": {},
   "source": [
    "# Customer Personality Analysis\n",
    "고객 특성 분석\n",
    "https://www.kaggle.com/datasets/imakash3011/customer-personality-analysis"
   ]
  },
  {
   "cell_type": "markdown",
   "id": "63c79608",
   "metadata": {},
   "source": [
    "<br>"
   ]
  },
  {
   "cell_type": "markdown",
   "id": "b408b523",
   "metadata": {},
   "source": [
    "### ~7/17\n",
    "1. 이상치, 결측치 어떻게 할지 (제거할지, 다른값으로 대체할지 ..) 생각해보기\n",
    "2. 추가변수, 파생변수 만들어보기"
   ]
  },
  {
   "cell_type": "markdown",
   "id": "aff30e21",
   "metadata": {},
   "source": [
    "<br>"
   ]
  },
  {
   "cell_type": "code",
   "execution_count": 62,
   "id": "7c2e99fa",
   "metadata": {},
   "outputs": [],
   "source": [
    "import pandas as pd\n",
    "df = pd.read_csv(\"marketing_campaign.csv\")"
   ]
  },
  {
   "cell_type": "code",
   "execution_count": 29,
   "id": "fd8d3b2b",
   "metadata": {},
   "outputs": [
    {
     "name": "stdout",
     "output_type": "stream",
     "text": [
      "<class 'pandas.core.frame.DataFrame'>\n",
      "RangeIndex: 2240 entries, 0 to 2239\n",
      "Data columns (total 29 columns):\n",
      " #   Column               Non-Null Count  Dtype  \n",
      "---  ------               --------------  -----  \n",
      " 0   ID                   2240 non-null   int64  \n",
      " 1   Year_Birth           2240 non-null   int64  \n",
      " 2   Education            2240 non-null   object \n",
      " 3   Marital_Status       2240 non-null   object \n",
      " 4   Income               2216 non-null   float64\n",
      " 5   Kidhome              2240 non-null   int64  \n",
      " 6   Teenhome             2240 non-null   int64  \n",
      " 7   Dt_Customer          2240 non-null   object \n",
      " 8   Recency              2240 non-null   int64  \n",
      " 9   MntWines             2240 non-null   int64  \n",
      " 10  MntFruits            2240 non-null   int64  \n",
      " 11  MntMeatProducts      2240 non-null   int64  \n",
      " 12  MntFishProducts      2240 non-null   int64  \n",
      " 13  MntSweetProducts     2240 non-null   int64  \n",
      " 14  MntGoldProds         2240 non-null   int64  \n",
      " 15  NumDealsPurchases    2240 non-null   int64  \n",
      " 16  NumWebPurchases      2240 non-null   int64  \n",
      " 17  NumCatalogPurchases  2240 non-null   int64  \n",
      " 18  NumStorePurchases    2240 non-null   int64  \n",
      " 19  NumWebVisitsMonth    2240 non-null   int64  \n",
      " 20  AcceptedCmp3         2240 non-null   int64  \n",
      " 21  AcceptedCmp4         2240 non-null   int64  \n",
      " 22  AcceptedCmp5         2240 non-null   int64  \n",
      " 23  AcceptedCmp1         2240 non-null   int64  \n",
      " 24  AcceptedCmp2         2240 non-null   int64  \n",
      " 25  Complain             2240 non-null   int64  \n",
      " 26  Z_CostContact        2240 non-null   int64  \n",
      " 27  Z_Revenue            2240 non-null   int64  \n",
      " 28  Response             2240 non-null   int64  \n",
      "dtypes: float64(1), int64(25), object(3)\n",
      "memory usage: 507.6+ KB\n"
     ]
    }
   ],
   "source": [
    "df.info()"
   ]
  },
  {
   "cell_type": "markdown",
   "id": "6d586777",
   "metadata": {},
   "source": [
    "<br>"
   ]
  },
  {
   "cell_type": "markdown",
   "id": "bf733f97",
   "metadata": {},
   "source": [
    "<br>"
   ]
  },
  {
   "cell_type": "code",
   "execution_count": 30,
   "id": "93c74f00",
   "metadata": {},
   "outputs": [
    {
     "data": {
      "text/plain": [
       "ID                      0\n",
       "Year_Birth              0\n",
       "Education               0\n",
       "Marital_Status          0\n",
       "Income                 24\n",
       "Kidhome                 0\n",
       "Teenhome                0\n",
       "Dt_Customer             0\n",
       "Recency                 0\n",
       "MntWines                0\n",
       "MntFruits               0\n",
       "MntMeatProducts         0\n",
       "MntFishProducts         0\n",
       "MntSweetProducts        0\n",
       "MntGoldProds            0\n",
       "NumDealsPurchases       0\n",
       "NumWebPurchases         0\n",
       "NumCatalogPurchases     0\n",
       "NumStorePurchases       0\n",
       "NumWebVisitsMonth       0\n",
       "AcceptedCmp3            0\n",
       "AcceptedCmp4            0\n",
       "AcceptedCmp5            0\n",
       "AcceptedCmp1            0\n",
       "AcceptedCmp2            0\n",
       "Complain                0\n",
       "Z_CostContact           0\n",
       "Z_Revenue               0\n",
       "Response                0\n",
       "dtype: int64"
      ]
     },
     "execution_count": 30,
     "metadata": {},
     "output_type": "execute_result"
    }
   ],
   "source": [
    "df.isnull().sum()"
   ]
  },
  {
   "cell_type": "markdown",
   "id": "8d637ced",
   "metadata": {},
   "source": [
    "<br>"
   ]
  },
  {
   "cell_type": "markdown",
   "id": "4402be1f",
   "metadata": {},
   "source": [
    "#### 이상치 확인 및 제거\n",
    "이상치 기준 : 1.5*IQR 규칙 이용하기\n",
    "\n",
    "제3사분위수와 제1사분위수로부터 1.5*IQR만큼 오른쪽 또는 왼쪽에 있는 값을 이상치라고 하겠음"
   ]
  },
  {
   "cell_type": "code",
   "execution_count": 31,
   "id": "009fe6f3",
   "metadata": {},
   "outputs": [],
   "source": [
    "import numpy as np\n",
    "\n",
    "# 이상치 탐지 함수\n",
    "def outliers(data):\n",
    "    q1, q3 = np.percentile(data, [25,75])\n",
    "    \n",
    "    iqr = q3 - q1\n",
    "    lower_bound = q1 - (iqr * 1.5)\n",
    "    upper_bound = q3 + (iqr * 1.5)\n",
    "    \n",
    "    return np.where((data>upper_bound)|(data<lower_bound))"
   ]
  },
  {
   "cell_type": "markdown",
   "id": "923cf7eb",
   "metadata": {},
   "source": [
    "<br>"
   ]
  },
  {
   "cell_type": "markdown",
   "id": "5e5ea06f",
   "metadata": {},
   "source": [
    "1. Year_Birth 출생연도"
   ]
  },
  {
   "cell_type": "code",
   "execution_count": 32,
   "id": "9bb5edfa",
   "metadata": {},
   "outputs": [
    {
     "data": {
      "image/png": "[encoded data removed]",
      "text/plain": [
       "<Figure size 432x288 with 1 Axes>"
      ]
     },
     "metadata": {
      "needs_background": "light"
     },
     "output_type": "display_data"
    }
   ],
   "source": [
    "import matplotlib.pyplot as plt\n",
    "import numpy as np\n",
    "\n",
    "fig, ax = plt.subplots()\n",
    "\n",
    "ax.boxplot(df.Year_Birth)\n",
    "plt.show()"
   ]
  },
  {
   "cell_type": "markdown",
   "id": "1b8d5b16",
   "metadata": {},
   "source": [
    "*이상치 존재 제거 필요*"
   ]
  },
  {
   "cell_type": "code",
   "execution_count": 33,
   "id": "2a3318c6",
   "metadata": {},
   "outputs": [
    {
     "data": {
      "text/plain": [
       "(array([192, 239, 339], dtype=int64),)"
      ]
     },
     "execution_count": 33,
     "metadata": {},
     "output_type": "execute_result"
    }
   ],
   "source": [
    "# 확인\n",
    "outliers(df.Year_Birth)"
   ]
  },
  {
   "cell_type": "code",
   "execution_count": null,
   "id": "1bcd52fe",
   "metadata": {},
   "outputs": [],
   "source": []
  },
  {
   "cell_type": "markdown",
   "id": "da78d67b",
   "metadata": {},
   "source": [
    "2. Income"
   ]
  },
  {
   "cell_type": "code",
   "execution_count": 34,
   "id": "7372158d",
   "metadata": {},
   "outputs": [
    {
     "name": "stderr",
     "output_type": "stream",
     "text": [
      "C:\\Users\\user\\anaconda3\\lib\\site-packages\\seaborn\\_decorators.py:36: FutureWarning: Pass the following variable as a keyword arg: x. From version 0.12, the only valid positional argument will be `data`, and passing other arguments without an explicit keyword will result in an error or misinterpretation.\n",
      "  warnings.warn(\n"
     ]
    },
    {
     "data": {
      "image/png": "[encoded data removed]",
      "text/plain": [
       "<Figure size 1152x360 with 1 Axes>"
      ]
     },
     "metadata": {
      "needs_background": "light"
     },
     "output_type": "display_data"
    }
   ],
   "source": [
    "import seaborn as sns\n",
    "\n",
    "plt.figure(figsize=(16,5))\n",
    "plt.title(f'Customers income boxplot')\n",
    "ax = sns.boxplot(df['Income'])\n",
    "plt.show()"
   ]
  },
  {
   "cell_type": "markdown",
   "id": "47e05e3f",
   "metadata": {},
   "source": [
    "*이상치 존재 제거 필요*"
   ]
  },
  {
   "cell_type": "code",
   "execution_count": 35,
   "id": "96a8bef0",
   "metadata": {},
   "outputs": [
    {
     "data": {
      "text/plain": [
       "Int64Index([164, 617, 655, 687, 1300, 1653, 2132, 2233], dtype='int64')"
      ]
     },
     "execution_count": 35,
     "metadata": {},
     "output_type": "execute_result"
    }
   ],
   "source": [
    "df.index[df.Income>140000]"
   ]
  },
  {
   "cell_type": "code",
   "execution_count": null,
   "id": "3da94d5e",
   "metadata": {},
   "outputs": [],
   "source": []
  },
  {
   "cell_type": "markdown",
   "id": "98b7abe2",
   "metadata": {},
   "source": [
    "3. Kidhome, Teenhome\n",
    "*이진변수 아님, 자녀 수임*"
   ]
  },
  {
   "cell_type": "code",
   "execution_count": 36,
   "id": "4d7f8564",
   "metadata": {},
   "outputs": [
    {
     "data": {
      "image/png": "[encoded data removed]",
      "text/plain": [
       "<Figure size 432x288 with 1 Axes>"
      ]
     },
     "metadata": {
      "needs_background": "light"
     },
     "output_type": "display_data"
    }
   ],
   "source": [
    "fig, ax = plt.subplots()\n",
    "ax.boxplot([df.Kidhome, df.Teenhome])\n",
    "plt.show()"
   ]
  },
  {
   "cell_type": "markdown",
   "id": "838fccd9",
   "metadata": {},
   "source": [
    "*이상치 존재 X*"
   ]
  },
  {
   "cell_type": "code",
   "execution_count": null,
   "id": "8e5dae86",
   "metadata": {},
   "outputs": [],
   "source": []
  },
  {
   "cell_type": "markdown",
   "id": "c9dd6882",
   "metadata": {},
   "source": [
    "4. Recency 고객의 마지막 구매 이후 일 수"
   ]
  },
  {
   "cell_type": "code",
   "execution_count": 37,
   "id": "31bfe2d9",
   "metadata": {},
   "outputs": [
    {
     "data": {
      "image/png": "[encoded data removed]",
      "text/plain": [
       "<Figure size 432x288 with 1 Axes>"
      ]
     },
     "metadata": {
      "needs_background": "light"
     },
     "output_type": "display_data"
    }
   ],
   "source": [
    "fig, ax = plt.subplots()\n",
    "ax.boxplot([df.Recency])\n",
    "plt.show()"
   ]
  },
  {
   "cell_type": "markdown",
   "id": "d589f166",
   "metadata": {},
   "source": [
    "*이상치 존재 X*"
   ]
  },
  {
   "cell_type": "code",
   "execution_count": null,
   "id": "c1969fe2",
   "metadata": {},
   "outputs": [],
   "source": []
  },
  {
   "cell_type": "markdown",
   "id": "63767227",
   "metadata": {},
   "source": [
    "5. Products들"
   ]
  },
  {
   "cell_type": "code",
   "execution_count": 80,
   "id": "84f9feb9",
   "metadata": {},
   "outputs": [
    {
     "data": {
      "image/png": "[encoded data removed]",
      "text/plain": [
       "<Figure size 432x288 with 1 Axes>"
      ]
     },
     "metadata": {
      "needs_background": "light"
     },
     "output_type": "display_data"
    }
   ],
   "source": [
    "fig, ax = plt.subplots()\n",
    "ax.boxplot([df.MntWines, df.MntFruits, df.MntMeatProducts, df.MntFishProducts,\n",
    "           df.MntSweetProducts, df.MntGoldProds])\n",
    "plt.show()"
   ]
  },
  {
   "cell_type": "code",
   "execution_count": 55,
   "id": "781a3780",
   "metadata": {},
   "outputs": [],
   "source": [
    "# 확인\n",
    "# print(outliers(df.MntWines),\n",
    "#      outliers(df.MntFruits),\n",
    "#      outliers(df.MntMeatProducts),\n",
    "#      outliers(df.MntFishProducts),\n",
    "#      outliers(df.MntSweetProducts),\n",
    "#      outliers(df.MntGoldProds))"
   ]
  },
  {
   "cell_type": "code",
   "execution_count": 47,
   "id": "7a77f7e8",
   "metadata": {},
   "outputs": [
    {
     "name": "stdout",
     "output_type": "stream",
     "text": [
      "35 227 175 223 248 207\n"
     ]
    }
   ],
   "source": [
    "print(len(outliers(df.MntWines)[0]),\n",
    "     len(outliers(df.MntFruits)[0]),\n",
    "     len(outliers(df.MntMeatProducts)[0]),\n",
    "     len(outliers(df.MntFishProducts)[0]),\n",
    "     len(outliers(df.MntSweetProducts)[0]),\n",
    "     len(outliers(df.MntGoldProds)[0]))"
   ]
  },
  {
   "cell_type": "code",
   "execution_count": null,
   "id": "e0fa9b26",
   "metadata": {},
   "outputs": [],
   "source": []
  },
  {
   "cell_type": "code",
   "execution_count": null,
   "id": "74679b26",
   "metadata": {},
   "outputs": [],
   "source": []
  },
  {
   "cell_type": "code",
   "execution_count": 83,
   "id": "6bc1e4db",
   "metadata": {},
   "outputs": [
    {
     "data": {
      "text/plain": [
       "164     1973\n",
       "617     1976\n",
       "655     1975\n",
       "687     1982\n",
       "1300    1971\n",
       "1653    1977\n",
       "2132    1949\n",
       "2233    1977\n",
       "Name: Year_Birth, dtype: int64"
      ]
     },
     "execution_count": 83,
     "metadata": {},
     "output_type": "execute_result"
    }
   ],
   "source": [
    "# 1. income 결측치와 8개 지우기\n",
    "# 2. 나이는 세개 지우기\n",
    "\n",
    "new = df[df.Income<140000]\n",
    "new.is_nul"
   ]
  },
  {
   "cell_type": "code",
   "execution_count": null,
   "id": "d79de589",
   "metadata": {},
   "outputs": [],
   "source": []
  },
  {
   "cell_type": "code",
   "execution_count": null,
   "id": "9b9013e7",
   "metadata": {},
   "outputs": [],
   "source": []
  },
  {
   "cell_type": "code",
   "execution_count": null,
   "id": "cd14e9c9",
   "metadata": {},
   "outputs": [],
   "source": []
  },
  {
   "cell_type": "code",
   "execution_count": null,
   "id": "f373086a",
   "metadata": {},
   "outputs": [],
   "source": []
  },
  {
   "cell_type": "markdown",
   "id": "90d0c6fe",
   "metadata": {},
   "source": [
    "6. NumDealsPurchases 할인된 구매 횟수(할인이 있을 시 구매한 횟수)"
   ]
  },
  {
   "cell_type": "code",
   "execution_count": 13,
   "id": "c2adf313",
   "metadata": {},
   "outputs": [
    {
     "data": {
      "image/png": "[encoded data removed]",
      "text/plain": [
       "<Figure size 432x288 with 1 Axes>"
      ]
     },
     "metadata": {
      "needs_background": "light"
     },
     "output_type": "display_data"
    }
   ],
   "source": [
    "fig, ax = plt.subplots()\n",
    "ax.boxplot([df.NumDealsPurchases])\n",
    "plt.show()"
   ]
  },
  {
   "cell_type": "code",
   "execution_count": 14,
   "id": "a425efe8",
   "metadata": {},
   "outputs": [
    {
     "data": {
      "text/plain": [
       "(array([  21,   24,   49,   54,   69,   90,  148,  164,  212,  213,  230,\n",
       "         244,  287,  364,  383,  404,  419,  432,  455,  472,  479,  532,\n",
       "         581,  627,  645,  687,  728,  731,  732,  772,  808,  855,  876,\n",
       "         888,  940,  964,  977, 1012, 1022, 1042, 1060, 1067, 1109, 1125,\n",
       "        1147, 1156, 1161, 1245, 1266, 1273, 1309, 1342, 1362, 1461, 1480,\n",
       "        1487, 1490, 1493, 1500, 1503, 1506, 1525, 1556, 1569, 1588, 1619,\n",
       "        1623, 1642, 1660, 1788, 1803, 1832, 1839, 1846, 1865, 1893, 1915,\n",
       "        1984, 2041, 2044, 2059, 2090, 2144, 2198, 2226, 2236], dtype=int64),)"
      ]
     },
     "execution_count": 14,
     "metadata": {},
     "output_type": "execute_result"
    }
   ],
   "source": [
    "# 확인\n",
    "outliers(df.NumDealsPurchases)"
   ]
  },
  {
   "cell_type": "code",
   "execution_count": null,
   "id": "08901be3",
   "metadata": {},
   "outputs": [],
   "source": []
  },
  {
   "cell_type": "markdown",
   "id": "423f0126",
   "metadata": {},
   "source": [
    "7. Place들"
   ]
  },
  {
   "cell_type": "code",
   "execution_count": 15,
   "id": "6d2543ca",
   "metadata": {},
   "outputs": [
    {
     "data": {
      "image/png": "[encoded data removed]",
      "text/plain": [
       "<Figure size 432x288 with 1 Axes>"
      ]
     },
     "metadata": {
      "needs_background": "light"
     },
     "output_type": "display_data"
    }
   ],
   "source": [
    "fig, ax = plt.subplots()\n",
    "ax.boxplot([df.NumWebPurchases, df.NumCatalogPurchases, \n",
    "            df.NumStorePurchases, df.NumWebVisitsMonth])\n",
    "plt.show()"
   ]
  },
  {
   "cell_type": "code",
   "execution_count": 16,
   "id": "6592f08f",
   "metadata": {
    "scrolled": true
   },
   "outputs": [
    {
     "name": "stdout",
     "output_type": "stream",
     "text": [
      "(array([  27, 1806, 1898, 1975], dtype=int64),) (array([  21,  104,  164,  288,  586,  591,  627,  636,  687,  764,  777,\n",
      "        934,  984, 1212, 1452, 1465, 1492, 1653, 1745, 1828, 1906, 1940,\n",
      "       1958], dtype=int64),) (array([], dtype=int64),) (array([   9,  774,  981, 1042, 1245, 1328, 1524, 1846], dtype=int64),)\n"
     ]
    }
   ],
   "source": [
    "print(outliers(df.NumWebPurchases),\n",
    "     outliers(df.NumCatalogPurchases),\n",
    "     outliers(df.NumStorePurchases),\n",
    "     outliers(df.NumWebVisitsMonth))"
   ]
  },
  {
   "cell_type": "code",
   "execution_count": null,
   "id": "c5eda48e",
   "metadata": {},
   "outputs": [],
   "source": []
  },
  {
   "cell_type": "markdown",
   "id": "58f3172a",
   "metadata": {},
   "source": [
    "※ 일단 출생년도와 수입에 대한 이상치만 제거"
   ]
  },
  {
   "cell_type": "code",
   "execution_count": 17,
   "id": "01ea013c",
   "metadata": {},
   "outputs": [],
   "source": [
    "import pandas as pd\n",
    "df = pd.read_csv(\"marketing_campaign.csv\")"
   ]
  },
  {
   "cell_type": "code",
   "execution_count": 18,
   "id": "dd2d2b96",
   "metadata": {},
   "outputs": [],
   "source": [
    "df = df.drop([192, 239, 339])\n",
    "df = df[df.Income < 140000]"
   ]
  },
  {
   "cell_type": "code",
   "execution_count": null,
   "id": "32c97265",
   "metadata": {},
   "outputs": [],
   "source": []
  },
  {
   "cell_type": "markdown",
   "id": "03451c5a",
   "metadata": {},
   "source": [
    "#### 결측치 확인"
   ]
  },
  {
   "cell_type": "code",
   "execution_count": 19,
   "id": "e7a4073a",
   "metadata": {},
   "outputs": [
    {
     "data": {
      "text/plain": [
       "ID                     0\n",
       "Year_Birth             0\n",
       "Education              0\n",
       "Marital_Status         0\n",
       "Income                 0\n",
       "Kidhome                0\n",
       "Teenhome               0\n",
       "Dt_Customer            0\n",
       "Recency                0\n",
       "MntWines               0\n",
       "MntFruits              0\n",
       "MntMeatProducts        0\n",
       "MntFishProducts        0\n",
       "MntSweetProducts       0\n",
       "MntGoldProds           0\n",
       "NumDealsPurchases      0\n",
       "NumWebPurchases        0\n",
       "NumCatalogPurchases    0\n",
       "NumStorePurchases      0\n",
       "NumWebVisitsMonth      0\n",
       "AcceptedCmp3           0\n",
       "AcceptedCmp4           0\n",
       "AcceptedCmp5           0\n",
       "AcceptedCmp1           0\n",
       "AcceptedCmp2           0\n",
       "Complain               0\n",
       "Z_CostContact          0\n",
       "Z_Revenue              0\n",
       "Response               0\n",
       "dtype: int64"
      ]
     },
     "execution_count": 19,
     "metadata": {},
     "output_type": "execute_result"
    }
   ],
   "source": [
    "df.isnull().sum()"
   ]
  },
  {
   "cell_type": "markdown",
   "id": "8135f7f5",
   "metadata": {},
   "source": [
    "Income에 대한 이상치를 제거하면 결측치 역시 제거된다."
   ]
  },
  {
   "cell_type": "code",
   "execution_count": null,
   "id": "6286c2df",
   "metadata": {},
   "outputs": [],
   "source": []
  },
  {
   "cell_type": "code",
   "execution_count": null,
   "id": "3768c17c",
   "metadata": {},
   "outputs": [],
   "source": []
  },
  {
   "cell_type": "code",
   "execution_count": null,
   "id": "ef4201bc",
   "metadata": {},
   "outputs": [],
   "source": []
  },
  {
   "cell_type": "code",
   "execution_count": null,
   "id": "819459fe",
   "metadata": {},
   "outputs": [],
   "source": []
  },
  {
   "cell_type": "code",
   "execution_count": 20,
   "id": "2c9c3a96",
   "metadata": {},
   "outputs": [
    {
     "name": "stdout",
     "output_type": "stream",
     "text": [
      "<class 'pandas.core.frame.DataFrame'>\n",
      "Int64Index: 2205 entries, 0 to 2239\n",
      "Data columns (total 29 columns):\n",
      " #   Column               Non-Null Count  Dtype  \n",
      "---  ------               --------------  -----  \n",
      " 0   ID                   2205 non-null   int64  \n",
      " 1   Year_Birth           2205 non-null   int64  \n",
      " 2   Education            2205 non-null   object \n",
      " 3   Marital_Status       2205 non-null   object \n",
      " 4   Income               2205 non-null   float64\n",
      " 5   Kidhome              2205 non-null   int64  \n",
      " 6   Teenhome             2205 non-null   int64  \n",
      " 7   Dt_Customer          2205 non-null   object \n",
      " 8   Recency              2205 non-null   int64  \n",
      " 9   MntWines             2205 non-null   int64  \n",
      " 10  MntFruits            2205 non-null   int64  \n",
      " 11  MntMeatProducts      2205 non-null   int64  \n",
      " 12  MntFishProducts      2205 non-null   int64  \n",
      " 13  MntSweetProducts     2205 non-null   int64  \n",
      " 14  MntGoldProds         2205 non-null   int64  \n",
      " 15  NumDealsPurchases    2205 non-null   int64  \n",
      " 16  NumWebPurchases      2205 non-null   int64  \n",
      " 17  NumCatalogPurchases  2205 non-null   int64  \n",
      " 18  NumStorePurchases    2205 non-null   int64  \n",
      " 19  NumWebVisitsMonth    2205 non-null   int64  \n",
      " 20  AcceptedCmp3         2205 non-null   int64  \n",
      " 21  AcceptedCmp4         2205 non-null   int64  \n",
      " 22  AcceptedCmp5         2205 non-null   int64  \n",
      " 23  AcceptedCmp1         2205 non-null   int64  \n",
      " 24  AcceptedCmp2         2205 non-null   int64  \n",
      " 25  Complain             2205 non-null   int64  \n",
      " 26  Z_CostContact        2205 non-null   int64  \n",
      " 27  Z_Revenue            2205 non-null   int64  \n",
      " 28  Response             2205 non-null   int64  \n",
      "dtypes: float64(1), int64(25), object(3)\n",
      "memory usage: 516.8+ KB\n"
     ]
    }
   ],
   "source": [
    "df.info()"
   ]
  },
  {
   "cell_type": "code",
   "execution_count": null,
   "id": "a60e17a7",
   "metadata": {},
   "outputs": [],
   "source": []
  },
  {
   "cell_type": "markdown",
   "id": "b29dc4a7",
   "metadata": {},
   "source": [
    "#### 추가변수, 파생변수 만들기"
   ]
  },
  {
   "cell_type": "markdown",
   "id": "8edf1a97",
   "metadata": {},
   "source": [
    "1. Dt_Customer(고객 등록 날짜)\n",
    "<br> 날짜 형식으로 변경"
   ]
  },
  {
   "cell_type": "code",
   "execution_count": 21,
   "id": "78b83072",
   "metadata": {},
   "outputs": [],
   "source": [
    "df['Dt_Customer'] = pd.to_datetime(df['Dt_Customer'],format = '%d-%m-%Y')"
   ]
  },
  {
   "cell_type": "markdown",
   "id": "cff3569e",
   "metadata": {},
   "source": [
    "2. Education, Marital_Status 더미변수 변환"
   ]
  },
  {
   "cell_type": "code",
   "execution_count": 22,
   "id": "7f258dac",
   "metadata": {},
   "outputs": [],
   "source": [
    "df = pd.get_dummies(df, columns = ['Education', 'Marital_Status'])"
   ]
  },
  {
   "cell_type": "markdown",
   "id": "a67c8777",
   "metadata": {},
   "source": [
    "3. 총 자녀 수 생성"
   ]
  },
  {
   "cell_type": "code",
   "execution_count": 23,
   "id": "c8932958",
   "metadata": {},
   "outputs": [],
   "source": [
    "df[\"Children\"] = df[\"Kidhome\"] + df[\"Teenhome\"]"
   ]
  },
  {
   "cell_type": "markdown",
   "id": "482055a3",
   "metadata": {},
   "source": [
    "4. MntWines & MntFruits & MntMeatProducts & MntFishProducts & MntSweetProducts & MntGoldProds\n",
    "<br>전체 상품에 대한 지불 총 금액 컬럼 생성"
   ]
  },
  {
   "cell_type": "code",
   "execution_count": 24,
   "id": "6de4aded",
   "metadata": {},
   "outputs": [],
   "source": [
    "df['TotalMntSpent'] = df['MntWines'] + df['MntFruits'] + df['MntMeatProducts'] + df['MntFishProducts'] + df['MntSweetProducts'] + df['MntGoldProds']"
   ]
  },
  {
   "cell_type": "code",
   "execution_count": null,
   "id": "8690d7d8",
   "metadata": {},
   "outputs": [],
   "source": []
  },
  {
   "cell_type": "code",
   "execution_count": null,
   "id": "16ed25a4",
   "metadata": {},
   "outputs": [],
   "source": []
  },
  {
   "cell_type": "markdown",
   "id": "f99e52c4",
   "metadata": {},
   "source": [
    "#### 불필요 컬럼 제거"
   ]
  },
  {
   "cell_type": "code",
   "execution_count": 25,
   "id": "b17a20b3",
   "metadata": {},
   "outputs": [],
   "source": [
    "df.drop(['ID','Z_CostContact', 'Z_Revenue'], axis=1, inplace=True)"
   ]
  },
  {
   "cell_type": "code",
   "execution_count": 26,
   "id": "1d108220",
   "metadata": {},
   "outputs": [
    {
     "data": {
      "text/html": [
       "<div>\n",
       "<style scoped>\n",
       "    .dataframe tbody tr th:only-of-type {\n",
       "        vertical-align: middle;\n",
       "    }\n",
       "\n",
       "    .dataframe tbody tr th {\n",
       "        vertical-align: top;\n",
       "    }\n",
       "\n",
       "    .dataframe thead th {\n",
       "        text-align: right;\n",
       "    }\n",
       "</style>\n",
       "<table border=\"1\" class=\"dataframe\">\n",
       "  <thead>\n",
       "    <tr style=\"text-align: right;\">\n",
       "      <th></th>\n",
       "      <th>Year_Birth</th>\n",
       "      <th>Income</th>\n",
       "      <th>Kidhome</th>\n",
       "      <th>Teenhome</th>\n",
       "      <th>Dt_Customer</th>\n",
       "      <th>Recency</th>\n",
       "      <th>MntWines</th>\n",
       "      <th>MntFruits</th>\n",
       "      <th>MntMeatProducts</th>\n",
       "      <th>MntFishProducts</th>\n",
       "      <th>...</th>\n",
       "      <th>Marital_Status_Absurd</th>\n",
       "      <th>Marital_Status_Alone</th>\n",
       "      <th>Marital_Status_Divorced</th>\n",
       "      <th>Marital_Status_Married</th>\n",
       "      <th>Marital_Status_Single</th>\n",
       "      <th>Marital_Status_Together</th>\n",
       "      <th>Marital_Status_Widow</th>\n",
       "      <th>Marital_Status_YOLO</th>\n",
       "      <th>Children</th>\n",
       "      <th>TotalMntSpent</th>\n",
       "    </tr>\n",
       "  </thead>\n",
       "  <tbody>\n",
       "    <tr>\n",
       "      <th>0</th>\n",
       "      <td>1957</td>\n",
       "      <td>58138.0</td>\n",
       "      <td>0</td>\n",
       "      <td>0</td>\n",
       "      <td>2012-09-04</td>\n",
       "      <td>58</td>\n",
       "      <td>635</td>\n",
       "      <td>88</td>\n",
       "      <td>546</td>\n",
       "      <td>172</td>\n",
       "      <td>...</td>\n",
       "      <td>0</td>\n",
       "      <td>0</td>\n",
       "      <td>0</td>\n",
       "      <td>0</td>\n",
       "      <td>1</td>\n",
       "      <td>0</td>\n",
       "      <td>0</td>\n",
       "      <td>0</td>\n",
       "      <td>0</td>\n",
       "      <td>1617</td>\n",
       "    </tr>\n",
       "    <tr>\n",
       "      <th>1</th>\n",
       "      <td>1954</td>\n",
       "      <td>46344.0</td>\n",
       "      <td>1</td>\n",
       "      <td>1</td>\n",
       "      <td>2014-03-08</td>\n",
       "      <td>38</td>\n",
       "      <td>11</td>\n",
       "      <td>1</td>\n",
       "      <td>6</td>\n",
       "      <td>2</td>\n",
       "      <td>...</td>\n",
       "      <td>0</td>\n",
       "      <td>0</td>\n",
       "      <td>0</td>\n",
       "      <td>0</td>\n",
       "      <td>1</td>\n",
       "      <td>0</td>\n",
       "      <td>0</td>\n",
       "      <td>0</td>\n",
       "      <td>2</td>\n",
       "      <td>27</td>\n",
       "    </tr>\n",
       "    <tr>\n",
       "      <th>2</th>\n",
       "      <td>1965</td>\n",
       "      <td>71613.0</td>\n",
       "      <td>0</td>\n",
       "      <td>0</td>\n",
       "      <td>2013-08-21</td>\n",
       "      <td>26</td>\n",
       "      <td>426</td>\n",
       "      <td>49</td>\n",
       "      <td>127</td>\n",
       "      <td>111</td>\n",
       "      <td>...</td>\n",
       "      <td>0</td>\n",
       "      <td>0</td>\n",
       "      <td>0</td>\n",
       "      <td>0</td>\n",
       "      <td>0</td>\n",
       "      <td>1</td>\n",
       "      <td>0</td>\n",
       "      <td>0</td>\n",
       "      <td>0</td>\n",
       "      <td>776</td>\n",
       "    </tr>\n",
       "    <tr>\n",
       "      <th>3</th>\n",
       "      <td>1984</td>\n",
       "      <td>26646.0</td>\n",
       "      <td>1</td>\n",
       "      <td>0</td>\n",
       "      <td>2014-02-10</td>\n",
       "      <td>26</td>\n",
       "      <td>11</td>\n",
       "      <td>4</td>\n",
       "      <td>20</td>\n",
       "      <td>10</td>\n",
       "      <td>...</td>\n",
       "      <td>0</td>\n",
       "      <td>0</td>\n",
       "      <td>0</td>\n",
       "      <td>0</td>\n",
       "      <td>0</td>\n",
       "      <td>1</td>\n",
       "      <td>0</td>\n",
       "      <td>0</td>\n",
       "      <td>1</td>\n",
       "      <td>53</td>\n",
       "    </tr>\n",
       "    <tr>\n",
       "      <th>4</th>\n",
       "      <td>1981</td>\n",
       "      <td>58293.0</td>\n",
       "      <td>1</td>\n",
       "      <td>0</td>\n",
       "      <td>2014-01-19</td>\n",
       "      <td>94</td>\n",
       "      <td>173</td>\n",
       "      <td>43</td>\n",
       "      <td>118</td>\n",
       "      <td>46</td>\n",
       "      <td>...</td>\n",
       "      <td>0</td>\n",
       "      <td>0</td>\n",
       "      <td>0</td>\n",
       "      <td>1</td>\n",
       "      <td>0</td>\n",
       "      <td>0</td>\n",
       "      <td>0</td>\n",
       "      <td>0</td>\n",
       "      <td>1</td>\n",
       "      <td>422</td>\n",
       "    </tr>\n",
       "  </tbody>\n",
       "</table>\n",
       "<p>5 rows × 39 columns</p>\n",
       "</div>"
      ],
      "text/plain": [
       "   Year_Birth   Income  Kidhome  Teenhome Dt_Customer  Recency  MntWines  \\\n",
       "0        1957  58138.0        0         0  2012-09-04       58       635   \n",
       "1        1954  46344.0        1         1  2014-03-08       38        11   \n",
       "2        1965  71613.0        0         0  2013-08-21       26       426   \n",
       "3        1984  26646.0        1         0  2014-02-10       26        11   \n",
       "4        1981  58293.0        1         0  2014-01-19       94       173   \n",
       "\n",
       "   MntFruits  MntMeatProducts  MntFishProducts  ...  Marital_Status_Absurd  \\\n",
       "0         88              546              172  ...                      0   \n",
       "1          1                6                2  ...                      0   \n",
       "2         49              127              111  ...                      0   \n",
       "3          4               20               10  ...                      0   \n",
       "4         43              118               46  ...                      0   \n",
       "\n",
       "   Marital_Status_Alone  Marital_Status_Divorced  Marital_Status_Married  \\\n",
       "0                     0                        0                       0   \n",
       "1                     0                        0                       0   \n",
       "2                     0                        0                       0   \n",
       "3                     0                        0                       0   \n",
       "4                     0                        0                       1   \n",
       "\n",
       "   Marital_Status_Single  Marital_Status_Together  Marital_Status_Widow  \\\n",
       "0                      1                        0                     0   \n",
       "1                      1                        0                     0   \n",
       "2                      0                        1                     0   \n",
       "3                      0                        1                     0   \n",
       "4                      0                        0                     0   \n",
       "\n",
       "   Marital_Status_YOLO  Children  TotalMntSpent  \n",
       "0                    0         0           1617  \n",
       "1                    0         2             27  \n",
       "2                    0         0            776  \n",
       "3                    0         1             53  \n",
       "4                    0         1            422  \n",
       "\n",
       "[5 rows x 39 columns]"
      ]
     },
     "execution_count": 26,
     "metadata": {},
     "output_type": "execute_result"
    }
   ],
   "source": [
    "df.head()"
   ]
  },
  {
   "cell_type": "code",
   "execution_count": 27,
   "id": "4725fc4a",
   "metadata": {},
   "outputs": [
    {
     "name": "stdout",
     "output_type": "stream",
     "text": [
      "<class 'pandas.core.frame.DataFrame'>\n",
      "Int64Index: 2205 entries, 0 to 2239\n",
      "Data columns (total 39 columns):\n",
      " #   Column                   Non-Null Count  Dtype         \n",
      "---  ------                   --------------  -----         \n",
      " 0   Year_Birth               2205 non-null   int64         \n",
      " 1   Income                   2205 non-null   float64       \n",
      " 2   Kidhome                  2205 non-null   int64         \n",
      " 3   Teenhome                 2205 non-null   int64         \n",
      " 4   Dt_Customer              2205 non-null   datetime64[ns]\n",
      " 5   Recency                  2205 non-null   int64         \n",
      " 6   MntWines                 2205 non-null   int64         \n",
      " 7   MntFruits                2205 non-null   int64         \n",
      " 8   MntMeatProducts          2205 non-null   int64         \n",
      " 9   MntFishProducts          2205 non-null   int64         \n",
      " 10  MntSweetProducts         2205 non-null   int64         \n",
      " 11  MntGoldProds             2205 non-null   int64         \n",
      " 12  NumDealsPurchases        2205 non-null   int64         \n",
      " 13  NumWebPurchases          2205 non-null   int64         \n",
      " 14  NumCatalogPurchases      2205 non-null   int64         \n",
      " 15  NumStorePurchases        2205 non-null   int64         \n",
      " 16  NumWebVisitsMonth        2205 non-null   int64         \n",
      " 17  AcceptedCmp3             2205 non-null   int64         \n",
      " 18  AcceptedCmp4             2205 non-null   int64         \n",
      " 19  AcceptedCmp5             2205 non-null   int64         \n",
      " 20  AcceptedCmp1             2205 non-null   int64         \n",
      " 21  AcceptedCmp2             2205 non-null   int64         \n",
      " 22  Complain                 2205 non-null   int64         \n",
      " 23  Response                 2205 non-null   int64         \n",
      " 24  Education_2n Cycle       2205 non-null   uint8         \n",
      " 25  Education_Basic          2205 non-null   uint8         \n",
      " 26  Education_Graduation     2205 non-null   uint8         \n",
      " 27  Education_Master         2205 non-null   uint8         \n",
      " 28  Education_PhD            2205 non-null   uint8         \n",
      " 29  Marital_Status_Absurd    2205 non-null   uint8         \n",
      " 30  Marital_Status_Alone     2205 non-null   uint8         \n",
      " 31  Marital_Status_Divorced  2205 non-null   uint8         \n",
      " 32  Marital_Status_Married   2205 non-null   uint8         \n",
      " 33  Marital_Status_Single    2205 non-null   uint8         \n",
      " 34  Marital_Status_Together  2205 non-null   uint8         \n",
      " 35  Marital_Status_Widow     2205 non-null   uint8         \n",
      " 36  Marital_Status_YOLO      2205 non-null   uint8         \n",
      " 37  Children                 2205 non-null   int64         \n",
      " 38  TotalMntSpent            2205 non-null   int64         \n",
      "dtypes: datetime64[ns](1), float64(1), int64(24), uint8(13)\n",
      "memory usage: 493.1 KB\n"
     ]
    }
   ],
   "source": [
    "df.info()"
   ]
  },
  {
   "cell_type": "code",
   "execution_count": null,
   "id": "621e6284",
   "metadata": {},
   "outputs": [],
   "source": []
  },
  {
   "cell_type": "code",
   "execution_count": null,
   "id": "794d292f",
   "metadata": {},
   "outputs": [],
   "source": []
  },
  {
   "cell_type": "code",
   "execution_count": null,
   "id": "b9d1ed33",
   "metadata": {},
   "outputs": [],
   "source": []
  }
 ],
 "metadata": {
  "kernelspec": {
   "display_name": "Python 3 (ipykernel)",
   "language": "python",
   "name": "python3"
  },
  "language_info": {
   "codemirror_mode": {
    "name": "ipython",
    "version": 3
   },
   "file_extension": ".py",
   "mimetype": "text/x-python",
   "name": "python",
   "nbconvert_exporter": "python",
   "pygments_lexer": "ipython3",
   "version": "3.9.7"
  },
  "toc": {
   "base_numbering": 1,
   "nav_menu": {},
   "number_sections": false,
   "sideBar": true,
   "skip_h1_title": false,
   "title_cell": "Table of Contents",
   "title_sidebar": "Contents",
   "toc_cell": false,
   "toc_position": {},
   "toc_section_display": true,
   "toc_window_display": false
  }
 },
 "nbformat": 4,
 "nbformat_minor": 5
}
